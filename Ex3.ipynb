{
  "nbformat": 4,
  "nbformat_minor": 0,
  "metadata": {
    "colab": {
      "provenance": []
    },
    "kernelspec": {
      "name": "python3",
      "display_name": "Python 3"
    },
    "language_info": {
      "name": "python"
    }
  },
  "cells": [
    {
      "cell_type": "markdown",
      "metadata": {
        "id": "VsMyEKQgzML5"
      },
      "source": [
        "Disciplina: SCC5948_Ciência_de_dados\n",
        "\n",
        "Normando de Campos Amazonas Filho\n",
        "\n",
        "NUSP: 11561949\n",
        "\n",
        "#Transformações em dados heterogêneos"
      ]
    },
    {
      "cell_type": "code",
      "metadata": {
        "id": "ITf3-bvqAMLM"
      },
      "source": [
        "import pandas as pd\n",
        "import numpy as np"
      ],
      "execution_count": null,
      "outputs": []
    },
    {
      "cell_type": "markdown",
      "metadata": {
        "id": "jwqk72Dl4TXE"
      },
      "source": [
        "### Parte 1\n",
        "Nessa primeira parte, vamos utilizar o conjunto de dados Iris com modificações (`iris_modif.data`)."
      ]
    },
    {
      "cell_type": "code",
      "metadata": {
        "colab": {
          "base_uri": "https://localhost:8080/",
          "height": 431
        },
        "id": "qft-nnRsAVoM",
        "outputId": "240a5b2d-d126-43ed-f943-cb28e466b9ab"
      },
      "source": [
        "iris = pd.read_csv('iris_modif.data', header=None, index_col=0)\n",
        "iris"
      ],
      "execution_count": null,
      "outputs": [
        {
          "output_type": "execute_result",
          "data": {
            "text/html": [
              "<div>\n",
              "<style scoped>\n",
              "    .dataframe tbody tr th:only-of-type {\n",
              "        vertical-align: middle;\n",
              "    }\n",
              "\n",
              "    .dataframe tbody tr th {\n",
              "        vertical-align: top;\n",
              "    }\n",
              "\n",
              "    .dataframe thead th {\n",
              "        text-align: right;\n",
              "    }\n",
              "</style>\n",
              "<table border=\"1\" class=\"dataframe\">\n",
              "  <thead>\n",
              "    <tr style=\"text-align: right;\">\n",
              "      <th></th>\n",
              "      <th>1</th>\n",
              "      <th>2</th>\n",
              "      <th>3</th>\n",
              "      <th>4</th>\n",
              "      <th>5</th>\n",
              "      <th>6</th>\n",
              "    </tr>\n",
              "    <tr>\n",
              "      <th>0</th>\n",
              "      <th></th>\n",
              "      <th></th>\n",
              "      <th></th>\n",
              "      <th></th>\n",
              "      <th></th>\n",
              "      <th></th>\n",
              "    </tr>\n",
              "  </thead>\n",
              "  <tbody>\n",
              "    <tr>\n",
              "      <th>0</th>\n",
              "      <td>4.9</td>\n",
              "      <td>3.0</td>\n",
              "      <td>49.0</td>\n",
              "      <td>1.4</td>\n",
              "      <td>0.2</td>\n",
              "      <td>Iris-setosa</td>\n",
              "    </tr>\n",
              "    <tr>\n",
              "      <th>1</th>\n",
              "      <td>4.7</td>\n",
              "      <td>3.2</td>\n",
              "      <td>47.0</td>\n",
              "      <td>1.3</td>\n",
              "      <td>0.2</td>\n",
              "      <td>Iris-setosa</td>\n",
              "    </tr>\n",
              "    <tr>\n",
              "      <th>2</th>\n",
              "      <td>4.6</td>\n",
              "      <td>3.1</td>\n",
              "      <td>46.0</td>\n",
              "      <td>1.5</td>\n",
              "      <td>0.2</td>\n",
              "      <td>Iris-setosa</td>\n",
              "    </tr>\n",
              "    <tr>\n",
              "      <th>3</th>\n",
              "      <td>5.0</td>\n",
              "      <td>3.6</td>\n",
              "      <td>50.0</td>\n",
              "      <td>1.4</td>\n",
              "      <td>0.2</td>\n",
              "      <td>Iris-setosa</td>\n",
              "    </tr>\n",
              "    <tr>\n",
              "      <th>4</th>\n",
              "      <td>5.4</td>\n",
              "      <td>3.9</td>\n",
              "      <td>54.0</td>\n",
              "      <td>1.7</td>\n",
              "      <td>0.4</td>\n",
              "      <td>Iris-setosa</td>\n",
              "    </tr>\n",
              "    <tr>\n",
              "      <th>...</th>\n",
              "      <td>...</td>\n",
              "      <td>...</td>\n",
              "      <td>...</td>\n",
              "      <td>...</td>\n",
              "      <td>...</td>\n",
              "      <td>...</td>\n",
              "    </tr>\n",
              "    <tr>\n",
              "      <th>153</th>\n",
              "      <td>67.0</td>\n",
              "      <td>33.0</td>\n",
              "      <td>670.0</td>\n",
              "      <td>57.0</td>\n",
              "      <td>21.0</td>\n",
              "      <td>Iris-virginica</td>\n",
              "    </tr>\n",
              "    <tr>\n",
              "      <th>154</th>\n",
              "      <td>79.0</td>\n",
              "      <td>38.0</td>\n",
              "      <td>790.0</td>\n",
              "      <td>64.0</td>\n",
              "      <td>20.0</td>\n",
              "      <td>Iris-virginica</td>\n",
              "    </tr>\n",
              "    <tr>\n",
              "      <th>155</th>\n",
              "      <td>61.0</td>\n",
              "      <td>28.0</td>\n",
              "      <td>610.0</td>\n",
              "      <td>47.0</td>\n",
              "      <td>12.0</td>\n",
              "      <td>Iris-versicolor</td>\n",
              "    </tr>\n",
              "    <tr>\n",
              "      <th>156</th>\n",
              "      <td>70.0</td>\n",
              "      <td>32.0</td>\n",
              "      <td>700.0</td>\n",
              "      <td>47.0</td>\n",
              "      <td>14.0</td>\n",
              "      <td>Iris-versicolor</td>\n",
              "    </tr>\n",
              "    <tr>\n",
              "      <th>157</th>\n",
              "      <td>63.0</td>\n",
              "      <td>25.0</td>\n",
              "      <td>630.0</td>\n",
              "      <td>49.0</td>\n",
              "      <td>15.0</td>\n",
              "      <td>Iris-versicolor</td>\n",
              "    </tr>\n",
              "  </tbody>\n",
              "</table>\n",
              "<p>158 rows × 6 columns</p>\n",
              "</div>"
            ],
            "text/plain": [
              "        1     2      3     4     5                6\n",
              "0                                                  \n",
              "0     4.9   3.0   49.0   1.4   0.2      Iris-setosa\n",
              "1     4.7   3.2   47.0   1.3   0.2      Iris-setosa\n",
              "2     4.6   3.1   46.0   1.5   0.2      Iris-setosa\n",
              "3     5.0   3.6   50.0   1.4   0.2      Iris-setosa\n",
              "4     5.4   3.9   54.0   1.7   0.4      Iris-setosa\n",
              "..    ...   ...    ...   ...   ...              ...\n",
              "153  67.0  33.0  670.0  57.0  21.0   Iris-virginica\n",
              "154  79.0  38.0  790.0  64.0  20.0   Iris-virginica\n",
              "155  61.0  28.0  610.0  47.0  12.0  Iris-versicolor\n",
              "156  70.0  32.0  700.0  47.0  14.0  Iris-versicolor\n",
              "157  63.0  25.0  630.0  49.0  15.0  Iris-versicolor\n",
              "\n",
              "[158 rows x 6 columns]"
            ]
          },
          "metadata": {
            "tags": []
          },
          "execution_count": 3
        }
      ]
    },
    {
      "cell_type": "markdown",
      "metadata": {
        "id": "Jz37m8uh9eY0"
      },
      "source": [
        "### Questão 01.\n",
        "\n",
        "* Utilizando as técnicas de visualização apresentadas até agora, verifique para cada atributo se existem outliers interpretando sua vizualização.\n",
        "* Aplique a técnica de Winsorização nos atributos que possuem outliers utilizando o 90º percentil do atributo dentro da classe que o exemplo pertence como limite superior.\n",
        "* Calcule a cerca inferior (LF) e superior (UF) para cada um dos atributos. Para ser considerados outliers, os valores devem estar além das cercas inferior ou superior.\n",
        "* Compare os resultados obtidos para cada atributo com os obtidos pela tec. de Winsorização.\n"
      ]
    },
    {
      "cell_type": "code",
      "metadata": {
        "colab": {
          "base_uri": "https://localhost:8080/",
          "height": 282
        },
        "id": "ezODUGoP9d15",
        "outputId": "0fd5333a-8266-4623-e56f-d23af1d5c727"
      },
      "source": [
        "iris[1].plot.box()"
      ],
      "execution_count": null,
      "outputs": [
        {
          "output_type": "execute_result",
          "data": {
            "text/plain": [
              "<matplotlib.axes._subplots.AxesSubplot at 0x7f5008c809d0>"
            ]
          },
          "metadata": {
            "tags": []
          },
          "execution_count": 106
        },
        {
          "output_type": "display_data",
          "data": {
            "image/png": "[encoded data removed]",
            "text/plain": [
              "<Figure size 432x288 with 1 Axes>"
            ]
          },
          "metadata": {
            "tags": [],
            "needs_background": "light"
          }
        }
      ]
    },
    {
      "cell_type": "code",
      "metadata": {
        "colab": {
          "base_uri": "https://localhost:8080/",
          "height": 282
        },
        "id": "KKPFMzASuCup",
        "outputId": "f7c5beea-cfeb-44f7-a1f9-853a9a0ff510"
      },
      "source": [
        "iris[2].plot.box()"
      ],
      "execution_count": null,
      "outputs": [
        {
          "output_type": "execute_result",
          "data": {
            "text/plain": [
              "<matplotlib.axes._subplots.AxesSubplot at 0x7f5008c5afd0>"
            ]
          },
          "metadata": {
            "tags": []
          },
          "execution_count": 107
        },
        {
          "output_type": "display_data",
          "data": {
            "image/png": "[encoded data removed]",
            "text/plain": [
              "<Figure size 432x288 with 1 Axes>"
            ]
          },
          "metadata": {
            "tags": [],
            "needs_background": "light"
          }
        }
      ]
    },
    {
      "cell_type": "code",
      "metadata": {
        "colab": {
          "base_uri": "https://localhost:8080/",
          "height": 282
        },
        "id": "CSOM9kicuFe6",
        "outputId": "54bb3b2a-6013-48a0-87ea-872db0aa31ef"
      },
      "source": [
        "iris[3].plot.box()"
      ],
      "execution_count": null,
      "outputs": [
        {
          "output_type": "execute_result",
          "data": {
            "text/plain": [
              "<matplotlib.axes._subplots.AxesSubplot at 0x7f5008d00e90>"
            ]
          },
          "metadata": {
            "tags": []
          },
          "execution_count": 108
        },
        {
          "output_type": "display_data",
          "data": {
            "image/png": "[encoded data removed]",
            "text/plain": [
              "<Figure size 432x288 with 1 Axes>"
            ]
          },
          "metadata": {
            "tags": [],
            "needs_background": "light"
          }
        }
      ]
    },
    {
      "cell_type": "code",
      "metadata": {
        "colab": {
          "base_uri": "https://localhost:8080/",
          "height": 282
        },
        "id": "MdzAlW0muIh6",
        "outputId": "96482954-0dc2-45c8-a19a-23d3e28f9160"
      },
      "source": [
        "iris[4].plot.box()"
      ],
      "execution_count": null,
      "outputs": [
        {
          "output_type": "execute_result",
          "data": {
            "text/plain": [
              "<matplotlib.axes._subplots.AxesSubplot at 0x7f5008bdc390>"
            ]
          },
          "metadata": {
            "tags": []
          },
          "execution_count": 109
        },
        {
          "output_type": "display_data",
          "data": {
            "image/png": "[encoded data removed]",
            "text/plain": [
              "<Figure size 432x288 with 1 Axes>"
            ]
          },
          "metadata": {
            "tags": [],
            "needs_background": "light"
          }
        }
      ]
    },
    {
      "cell_type": "markdown",
      "metadata": {
        "id": "reo1I9d-0RdI"
      },
      "source": [
        "### Resposta: Pelo box plot, todos os atributos possuem valores consideravelmente acima da maior densidade da distribuição, e podem ser considerados outliers"
      ]
    },
    {
      "cell_type": "code",
      "metadata": {
        "id": "JRPMbVtjuuc0",
        "colab": {
          "base_uri": "https://localhost:8080/",
          "height": 431
        },
        "outputId": "268314a4-34e4-4701-cc4c-e227c85db91d"
      },
      "source": [
        "def rm_outlier(df, attr_name):\n",
        "  new_df = df.copy(deep=True)\n",
        "  # Agrupa o conjunto utilizando a coluna 6 (classe) e computa o quantil para cada coluna para cada classe\n",
        "  q = df.groupby(by=6).quantile(0.90)\n",
        "  for idx, row in df.iterrows():\n",
        "    # Se o valor do atributo para esse linha é maior do que o valor do atributo permitido para a classe dele,\n",
        "    # trocar o valor pelo 90º percentil\n",
        "    if row[attr_name] > q.loc[row[6]][attr_name]:\n",
        "      new_df.at[idx, attr_name] = q.loc[row[6]][attr_name]\n",
        "  return new_df\n",
        "for i in range(1, 5):\n",
        "  iris = rm_outlier(iris, i)\n",
        "iris"
      ],
      "execution_count": null,
      "outputs": [
        {
          "output_type": "execute_result",
          "data": {
            "text/html": [
              "<div>\n",
              "<style scoped>\n",
              "    .dataframe tbody tr th:only-of-type {\n",
              "        vertical-align: middle;\n",
              "    }\n",
              "\n",
              "    .dataframe tbody tr th {\n",
              "        vertical-align: top;\n",
              "    }\n",
              "\n",
              "    .dataframe thead th {\n",
              "        text-align: right;\n",
              "    }\n",
              "</style>\n",
              "<table border=\"1\" class=\"dataframe\">\n",
              "  <thead>\n",
              "    <tr style=\"text-align: right;\">\n",
              "      <th></th>\n",
              "      <th>1</th>\n",
              "      <th>2</th>\n",
              "      <th>3</th>\n",
              "      <th>4</th>\n",
              "      <th>5</th>\n",
              "      <th>6</th>\n",
              "    </tr>\n",
              "    <tr>\n",
              "      <th>0</th>\n",
              "      <th></th>\n",
              "      <th></th>\n",
              "      <th></th>\n",
              "      <th></th>\n",
              "      <th></th>\n",
              "      <th></th>\n",
              "    </tr>\n",
              "  </thead>\n",
              "  <tbody>\n",
              "    <tr>\n",
              "      <th>0</th>\n",
              "      <td>4.90</td>\n",
              "      <td>3.00</td>\n",
              "      <td>49.0</td>\n",
              "      <td>1.40</td>\n",
              "      <td>0.2</td>\n",
              "      <td>Iris-setosa</td>\n",
              "    </tr>\n",
              "    <tr>\n",
              "      <th>1</th>\n",
              "      <td>4.70</td>\n",
              "      <td>3.20</td>\n",
              "      <td>47.0</td>\n",
              "      <td>1.30</td>\n",
              "      <td>0.2</td>\n",
              "      <td>Iris-setosa</td>\n",
              "    </tr>\n",
              "    <tr>\n",
              "      <th>2</th>\n",
              "      <td>4.60</td>\n",
              "      <td>3.10</td>\n",
              "      <td>46.0</td>\n",
              "      <td>1.50</td>\n",
              "      <td>0.2</td>\n",
              "      <td>Iris-setosa</td>\n",
              "    </tr>\n",
              "    <tr>\n",
              "      <th>3</th>\n",
              "      <td>5.00</td>\n",
              "      <td>3.60</td>\n",
              "      <td>50.0</td>\n",
              "      <td>1.40</td>\n",
              "      <td>0.2</td>\n",
              "      <td>Iris-setosa</td>\n",
              "    </tr>\n",
              "    <tr>\n",
              "      <th>4</th>\n",
              "      <td>5.40</td>\n",
              "      <td>3.90</td>\n",
              "      <td>54.0</td>\n",
              "      <td>1.70</td>\n",
              "      <td>0.4</td>\n",
              "      <td>Iris-setosa</td>\n",
              "    </tr>\n",
              "    <tr>\n",
              "      <th>...</th>\n",
              "      <td>...</td>\n",
              "      <td>...</td>\n",
              "      <td>...</td>\n",
              "      <td>...</td>\n",
              "      <td>...</td>\n",
              "      <td>...</td>\n",
              "    </tr>\n",
              "    <tr>\n",
              "      <th>153</th>\n",
              "      <td>7.70</td>\n",
              "      <td>3.56</td>\n",
              "      <td>77.0</td>\n",
              "      <td>6.68</td>\n",
              "      <td>21.0</td>\n",
              "      <td>Iris-virginica</td>\n",
              "    </tr>\n",
              "    <tr>\n",
              "      <th>154</th>\n",
              "      <td>7.70</td>\n",
              "      <td>3.56</td>\n",
              "      <td>77.0</td>\n",
              "      <td>6.68</td>\n",
              "      <td>20.0</td>\n",
              "      <td>Iris-virginica</td>\n",
              "    </tr>\n",
              "    <tr>\n",
              "      <th>155</th>\n",
              "      <td>6.78</td>\n",
              "      <td>3.20</td>\n",
              "      <td>67.8</td>\n",
              "      <td>4.90</td>\n",
              "      <td>12.0</td>\n",
              "      <td>Iris-versicolor</td>\n",
              "    </tr>\n",
              "    <tr>\n",
              "      <th>156</th>\n",
              "      <td>6.78</td>\n",
              "      <td>3.20</td>\n",
              "      <td>67.8</td>\n",
              "      <td>4.90</td>\n",
              "      <td>14.0</td>\n",
              "      <td>Iris-versicolor</td>\n",
              "    </tr>\n",
              "    <tr>\n",
              "      <th>157</th>\n",
              "      <td>6.78</td>\n",
              "      <td>3.20</td>\n",
              "      <td>67.8</td>\n",
              "      <td>4.90</td>\n",
              "      <td>15.0</td>\n",
              "      <td>Iris-versicolor</td>\n",
              "    </tr>\n",
              "  </tbody>\n",
              "</table>\n",
              "<p>158 rows × 6 columns</p>\n",
              "</div>"
            ],
            "text/plain": [
              "        1     2     3     4     5                6\n",
              "0                                                 \n",
              "0    4.90  3.00  49.0  1.40   0.2      Iris-setosa\n",
              "1    4.70  3.20  47.0  1.30   0.2      Iris-setosa\n",
              "2    4.60  3.10  46.0  1.50   0.2      Iris-setosa\n",
              "3    5.00  3.60  50.0  1.40   0.2      Iris-setosa\n",
              "4    5.40  3.90  54.0  1.70   0.4      Iris-setosa\n",
              "..    ...   ...   ...   ...   ...              ...\n",
              "153  7.70  3.56  77.0  6.68  21.0   Iris-virginica\n",
              "154  7.70  3.56  77.0  6.68  20.0   Iris-virginica\n",
              "155  6.78  3.20  67.8  4.90  12.0  Iris-versicolor\n",
              "156  6.78  3.20  67.8  4.90  14.0  Iris-versicolor\n",
              "157  6.78  3.20  67.8  4.90  15.0  Iris-versicolor\n",
              "\n",
              "[158 rows x 6 columns]"
            ]
          },
          "metadata": {
            "tags": []
          },
          "execution_count": 4
        }
      ]
    },
    {
      "cell_type": "markdown",
      "metadata": {
        "id": "qMovNx1P35aE"
      },
      "source": [
        "### Questão 02.\n",
        "* Identifique visualmente ou programaticamente se existem atributos reduntantes nessa base. Caso exista, crie um novo `Dataframe` sem eles.\n",
        "* **Dica**: Atributos redundantes são aqueles que trazem a mesma informação ou que seja possível calcular um a partir do outro. Por exemplo: Data de aniversário e idade."
      ]
    },
    {
      "cell_type": "code",
      "metadata": {
        "colab": {
          "base_uri": "https://localhost:8080/",
          "height": 282
        },
        "id": "Z_F8uRqXTCkL",
        "outputId": "21633bd4-7ace-41b8-f562-eac541f4086d"
      },
      "source": [
        "iris[1].hist()"
      ],
      "execution_count": null,
      "outputs": [
        {
          "output_type": "execute_result",
          "data": {
            "text/plain": [
              "<matplotlib.axes._subplots.AxesSubplot at 0x7f7dcd5dd7d0>"
            ]
          },
          "metadata": {
            "tags": []
          },
          "execution_count": 5
        },
        {
          "output_type": "display_data",
          "data": {
            "image/png": "[encoded data removed]",
            "text/plain": [
              "<Figure size 432x288 with 1 Axes>"
            ]
          },
          "metadata": {
            "tags": [],
            "needs_background": "light"
          }
        }
      ]
    },
    {
      "cell_type": "code",
      "metadata": {
        "colab": {
          "base_uri": "https://localhost:8080/",
          "height": 282
        },
        "id": "8if7rsT1UaCZ",
        "outputId": "152a7506-9dbe-464c-b1c8-be24bf5c77cd"
      },
      "source": [
        "iris[3].hist()"
      ],
      "execution_count": null,
      "outputs": [
        {
          "output_type": "execute_result",
          "data": {
            "text/plain": [
              "<matplotlib.axes._subplots.AxesSubplot at 0x7f7dd7a61c10>"
            ]
          },
          "metadata": {
            "tags": []
          },
          "execution_count": 6
        },
        {
          "output_type": "display_data",
          "data": {
            "image/png": "[encoded data removed]",
            "text/plain": [
              "<Figure size 432x288 with 1 Axes>"
            ]
          },
          "metadata": {
            "tags": [],
            "needs_background": "light"
          }
        }
      ]
    },
    {
      "cell_type": "code",
      "metadata": {
        "colab": {
          "base_uri": "https://localhost:8080/"
        },
        "id": "PGcNRMAaUfA_",
        "outputId": "7089b8fd-4146-4493-c3b0-48ccaa25b16b"
      },
      "source": [
        "print((iris[3]/10 == iris[1]).all())"
      ],
      "execution_count": null,
      "outputs": [
        {
          "output_type": "stream",
          "text": [
            "True\n"
          ],
          "name": "stdout"
        }
      ]
    },
    {
      "cell_type": "markdown",
      "metadata": {
        "id": "k1LkaFfRU01z"
      },
      "source": [
        "### Pelo histograma, os atributos 1 e 3 parecem ter exatamente a mesma distribuição. Porém com uma ordem de magnitude de diferença. Por código podemos verificar que todos os valores do atributo '3' são exatamente iguais ao do atributo '1' só que divididos por 10. Por isso podemos remove-lo."
      ]
    },
    {
      "cell_type": "code",
      "metadata": {
        "colab": {
          "base_uri": "https://localhost:8080/",
          "height": 431
        },
        "id": "QAMK1uFNXVS8",
        "outputId": "dd6aa1f2-aa59-4c3e-d38e-b9150cdc8b7b"
      },
      "source": [
        "iris_novo = iris.drop(columns=3)\n",
        "iris_novo"
      ],
      "execution_count": null,
      "outputs": [
        {
          "output_type": "execute_result",
          "data": {
            "text/html": [
              "<div>\n",
              "<style scoped>\n",
              "    .dataframe tbody tr th:only-of-type {\n",
              "        vertical-align: middle;\n",
              "    }\n",
              "\n",
              "    .dataframe tbody tr th {\n",
              "        vertical-align: top;\n",
              "    }\n",
              "\n",
              "    .dataframe thead th {\n",
              "        text-align: right;\n",
              "    }\n",
              "</style>\n",
              "<table border=\"1\" class=\"dataframe\">\n",
              "  <thead>\n",
              "    <tr style=\"text-align: right;\">\n",
              "      <th></th>\n",
              "      <th>1</th>\n",
              "      <th>2</th>\n",
              "      <th>4</th>\n",
              "      <th>5</th>\n",
              "      <th>6</th>\n",
              "    </tr>\n",
              "    <tr>\n",
              "      <th>0</th>\n",
              "      <th></th>\n",
              "      <th></th>\n",
              "      <th></th>\n",
              "      <th></th>\n",
              "      <th></th>\n",
              "    </tr>\n",
              "  </thead>\n",
              "  <tbody>\n",
              "    <tr>\n",
              "      <th>0</th>\n",
              "      <td>4.90</td>\n",
              "      <td>3.00</td>\n",
              "      <td>1.40</td>\n",
              "      <td>0.2</td>\n",
              "      <td>Iris-setosa</td>\n",
              "    </tr>\n",
              "    <tr>\n",
              "      <th>1</th>\n",
              "      <td>4.70</td>\n",
              "      <td>3.20</td>\n",
              "      <td>1.30</td>\n",
              "      <td>0.2</td>\n",
              "      <td>Iris-setosa</td>\n",
              "    </tr>\n",
              "    <tr>\n",
              "      <th>2</th>\n",
              "      <td>4.60</td>\n",
              "      <td>3.10</td>\n",
              "      <td>1.50</td>\n",
              "      <td>0.2</td>\n",
              "      <td>Iris-setosa</td>\n",
              "    </tr>\n",
              "    <tr>\n",
              "      <th>3</th>\n",
              "      <td>5.00</td>\n",
              "      <td>3.60</td>\n",
              "      <td>1.40</td>\n",
              "      <td>0.2</td>\n",
              "      <td>Iris-setosa</td>\n",
              "    </tr>\n",
              "    <tr>\n",
              "      <th>4</th>\n",
              "      <td>5.40</td>\n",
              "      <td>3.90</td>\n",
              "      <td>1.70</td>\n",
              "      <td>0.4</td>\n",
              "      <td>Iris-setosa</td>\n",
              "    </tr>\n",
              "    <tr>\n",
              "      <th>...</th>\n",
              "      <td>...</td>\n",
              "      <td>...</td>\n",
              "      <td>...</td>\n",
              "      <td>...</td>\n",
              "      <td>...</td>\n",
              "    </tr>\n",
              "    <tr>\n",
              "      <th>153</th>\n",
              "      <td>7.70</td>\n",
              "      <td>3.56</td>\n",
              "      <td>6.68</td>\n",
              "      <td>21.0</td>\n",
              "      <td>Iris-virginica</td>\n",
              "    </tr>\n",
              "    <tr>\n",
              "      <th>154</th>\n",
              "      <td>7.70</td>\n",
              "      <td>3.56</td>\n",
              "      <td>6.68</td>\n",
              "      <td>20.0</td>\n",
              "      <td>Iris-virginica</td>\n",
              "    </tr>\n",
              "    <tr>\n",
              "      <th>155</th>\n",
              "      <td>6.78</td>\n",
              "      <td>3.20</td>\n",
              "      <td>4.90</td>\n",
              "      <td>12.0</td>\n",
              "      <td>Iris-versicolor</td>\n",
              "    </tr>\n",
              "    <tr>\n",
              "      <th>156</th>\n",
              "      <td>6.78</td>\n",
              "      <td>3.20</td>\n",
              "      <td>4.90</td>\n",
              "      <td>14.0</td>\n",
              "      <td>Iris-versicolor</td>\n",
              "    </tr>\n",
              "    <tr>\n",
              "      <th>157</th>\n",
              "      <td>6.78</td>\n",
              "      <td>3.20</td>\n",
              "      <td>4.90</td>\n",
              "      <td>15.0</td>\n",
              "      <td>Iris-versicolor</td>\n",
              "    </tr>\n",
              "  </tbody>\n",
              "</table>\n",
              "<p>158 rows × 5 columns</p>\n",
              "</div>"
            ],
            "text/plain": [
              "        1     2     4     5                6\n",
              "0                                           \n",
              "0    4.90  3.00  1.40   0.2      Iris-setosa\n",
              "1    4.70  3.20  1.30   0.2      Iris-setosa\n",
              "2    4.60  3.10  1.50   0.2      Iris-setosa\n",
              "3    5.00  3.60  1.40   0.2      Iris-setosa\n",
              "4    5.40  3.90  1.70   0.4      Iris-setosa\n",
              "..    ...   ...   ...   ...              ...\n",
              "153  7.70  3.56  6.68  21.0   Iris-virginica\n",
              "154  7.70  3.56  6.68  20.0   Iris-virginica\n",
              "155  6.78  3.20  4.90  12.0  Iris-versicolor\n",
              "156  6.78  3.20  4.90  14.0  Iris-versicolor\n",
              "157  6.78  3.20  4.90  15.0  Iris-versicolor\n",
              "\n",
              "[158 rows x 5 columns]"
            ]
          },
          "metadata": {
            "tags": []
          },
          "execution_count": 20
        }
      ]
    },
    {
      "cell_type": "markdown",
      "metadata": {
        "id": "-cxB49sEfTe4"
      },
      "source": [
        "### Questão 03.\n",
        "\n",
        "*   Assumindo que o atributo '1' segue uma distribuição normal, calcule a probabilidade de uma observação X deste atributo estar no intervalo 5.045 < X < 6.741.\n",
        "* Verifique quais outros atributos possuem esta mesma probabilidade para valores nesta mesma faixa. Neste caso, eles seguem uma distribuição normal?"
      ]
    },
    {
      "cell_type": "code",
      "metadata": {
        "colab": {
          "base_uri": "https://localhost:8080/",
          "height": 195
        },
        "id": "wTkNErtFfVqi",
        "outputId": "8984b7b6-11ce-46c3-c698-199c6f40032f"
      },
      "source": [
        "from scipy.stats import norm\n",
        "\n",
        "def view(df, nome_attr):\n",
        "  df.hist(nome_attr, density=1)\n",
        "  df[nome_attr].plot.kde()\n",
        "  normal = pd.Series(norm.rvs(df[nome_attr].mean(), df[nome_attr].std(), size=100000))\n",
        "  normal.plot.kde()\n",
        "\n",
        "view(iris_novo, 1)"
      ],
      "execution_count": null,
      "outputs": [
        {
          "output_type": "error",
          "ename": "NameError",
          "evalue": "ignored",
          "traceback": [
            "\u001b[0;31m---------------------------------------------------------------------------\u001b[0m",
            "\u001b[0;31mNameError\u001b[0m                                 Traceback (most recent call last)",
            "\u001b[0;32m<ipython-input-1-c87ad0c00b8b>\u001b[0m in \u001b[0;36m<module>\u001b[0;34m()\u001b[0m\n\u001b[1;32m      7\u001b[0m   \u001b[0mnormal\u001b[0m\u001b[0;34m.\u001b[0m\u001b[0mplot\u001b[0m\u001b[0;34m.\u001b[0m\u001b[0mkde\u001b[0m\u001b[0;34m(\u001b[0m\u001b[0;34m)\u001b[0m\u001b[0;34m\u001b[0m\u001b[0;34m\u001b[0m\u001b[0m\n\u001b[1;32m      8\u001b[0m \u001b[0;34m\u001b[0m\u001b[0m\n\u001b[0;32m----> 9\u001b[0;31m \u001b[0mview\u001b[0m\u001b[0;34m(\u001b[0m\u001b[0miris_novo\u001b[0m\u001b[0;34m,\u001b[0m \u001b[0;36m1\u001b[0m\u001b[0;34m)\u001b[0m\u001b[0;34m\u001b[0m\u001b[0;34m\u001b[0m\u001b[0m\n\u001b[0m",
            "\u001b[0;31mNameError\u001b[0m: name 'iris_novo' is not defined"
          ]
        }
      ]
    },
    {
      "cell_type": "code",
      "metadata": {
        "colab": {
          "base_uri": "https://localhost:8080/"
        },
        "id": "Zw8y6F6RiyQC",
        "outputId": "f1c18414-5421-4828-dbee-304b67d8137b"
      },
      "source": [
        "media = iris_novo[1].mean()\n",
        "desvio_padrao = iris[1].std()\n",
        "print(media - desvio_padrao)\n",
        "print(media + desvio_padrao)"
      ],
      "execution_count": null,
      "outputs": [
        {
          "output_type": "stream",
          "text": [
            "5.045828579859101\n",
            "6.741006863178876\n"
          ],
          "name": "stdout"
        }
      ]
    },
    {
      "cell_type": "markdown",
      "metadata": {
        "id": "d1a2n_YPlIgr"
      },
      "source": [
        "### Resposta: O intervalo do enunciado é aproximadamente:\n",
        "\n",
        "`media - desvio_padrao <  X < media + desvio padrão`,\n",
        "\n",
        "por isso a probabilidade de X estar dentro deste intervalo é de 68%\n"
      ]
    },
    {
      "cell_type": "markdown",
      "metadata": {
        "id": "kkuFts0r3tJB"
      },
      "source": [
        "### Parte 2\n",
        "Nos próximos exercícios utilizaremos um dataset com 13 variáveis de entrada e 1 variável de saída (num). O dataset pode ser encontrado no arquivo \"clv_heart_disease.csv\".\n",
        "Existem valores faltantes nesse dataset, representados pelo caractere \"?\".\n"
      ]
    },
    {
      "cell_type": "code",
      "metadata": {
        "id": "7NRqMuGZzAgR"
      },
      "source": [
        "# na_values diz para o Pandas qual simbolo representa valores faltantes\n",
        "dados = pd.read_csv('clv_heart_disease.data', na_values='?')\n",
        "dados.info()"
      ],
      "execution_count": null,
      "outputs": []
    },
    {
      "cell_type": "markdown",
      "metadata": {
        "id": "NVCsVMwE03iJ"
      },
      "source": [
        "### Questão 01.\n",
        "\n",
        "*   Crie uma lista com o nome das variáveis numéricas e uma com o nome das variáveis categóricas"
      ]
    },
    {
      "cell_type": "code",
      "metadata": {
        "id": "u9UasGnc0zab"
      },
      "source": [
        "# Criamos um vetor com o nome das classes desejadas\n",
        "features_numericos = ['age', 'trestbps', 'chol', 'thalach', 'oldpeak', 'ca', 'fbs']\n",
        "features_categoricos = ['sex', 'cp', 'restecg', 'exang', 'slope', 'thal']"
      ],
      "execution_count": null,
      "outputs": []
    },
    {
      "cell_type": "markdown",
      "metadata": {
        "id": "G8xZXqwEzut8"
      },
      "source": [
        "### Questão 02.\n",
        "\n",
        "*   **Para os dados numéricos:** substitua os valores faltantes utilizando a estratégia de média.\n",
        "\n",
        "*   **Para os dados categóricos:** substitua os valores faltantes utilizando a estratégia de mais frequentes."
      ]
    },
    {
      "cell_type": "code",
      "metadata": {
        "id": "VLAETzlE0cO_"
      },
      "source": [
        "from sklearn.pipeline import Pipeline\n",
        "from sklearn.impute import SimpleImputer\n",
        "from sklearn.compose import ColumnTransformer\n",
        "\n",
        "# Criando os pipelines\n",
        "pipeline_numerico = Pipeline(steps=[\n",
        "    ('imputer', SimpleImputer(strategy='mean'))])\n",
        "\n",
        "pipeline_categorico = Pipeline(steps=[\n",
        "    ('imputer', SimpleImputer(strategy='most_frequent'))])\n",
        "\n",
        "# Criando a transformação do conjunto de dados:\n",
        "transformacao = ColumnTransformer(\n",
        "    transformers=[\n",
        "        ('transformacao numerica', pipeline_numerico, features_numericos),\n",
        "        ('transformacao categorica', pipeline_categorico, features_categoricos),\n",
        "    ])\n",
        "\n",
        "# Aplicando a transformação no dataset:\n",
        "dados_transformados = transformacao.fit_transform(dados)"
      ],
      "execution_count": null,
      "outputs": []
    },
    {
      "cell_type": "code",
      "metadata": {
        "id": "YTz90OPLlzJK"
      },
      "source": [
        "dados_numericos = dados_transformados[:, :7]"
      ],
      "execution_count": null,
      "outputs": []
    },
    {
      "cell_type": "markdown",
      "metadata": {
        "id": "5t6QBE_k1v9v"
      },
      "source": [
        "### Questão 03.\n",
        "\n",
        "*     ***Utilizando apenas os atributos numéricos do exercício anterior***, reduza a dimensionalidade do conjunto de dados resultante da questão anterior utilizando a técnica PCA (`sklearn.decomposition.PCA`). Reduza a dimensionalidade de forma que no mínimo 80% da variância dos dados seja mantida (atente-se ao atributo  `explained_variance_ratio_`).\n",
        "\n",
        "*   Exiba os componentes principais em uma tabela."
      ]
    },
    {
      "cell_type": "code",
      "metadata": {
        "id": "sESg0A4z2v7P"
      },
      "source": [
        "from sklearn.decomposition import PCA\n",
        "\n",
        "pca = PCA(n_components=0.8)\n",
        "# Sem o label\n",
        "dados_pca = pca.fit_transform(dados_numericos)\n",
        "\n",
        "print(\"As %d componentes principais explicam %.2f%% da variancia dos dados originais\" % (len(pca.components_), pca.explained_variance_ratio_.sum() * 100))\n",
        "component_names = ['component {}'.format(i) for i in range(len(pca.components_))]\n",
        "components_df = pd.DataFrame(data=pca.components_.T, columns=component_names)\n",
        "components_df.head()"
      ],
      "execution_count": null,
      "outputs": []
    }
  ]
}