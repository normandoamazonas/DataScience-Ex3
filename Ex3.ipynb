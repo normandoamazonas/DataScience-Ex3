{
  "nbformat": 4,
  "nbformat_minor": 0,
  "metadata": {
    "colab": {
      "provenance": []
    },
    "kernelspec": {
      "name": "python3",
      "display_name": "Python 3"
    },
    "language_info": {
      "name": "python"
    }
  },
  "cells": [
    {
      "cell_type": "markdown",
      "metadata": {
        "id": "VsMyEKQgzML5"
      },
      "source": [
        "Disciplina: SCC5948_Ciência_de_dados\n",
        "\n",
        "Normando de Campos Amazonas Filho\n",
        "\n",
        "NUSP: 11561949\n",
        "\n",
        "# Transformações em dados heterogêneos\n"
      ]
    },
    {
      "cell_type": "code",
      "metadata": {
        "id": "ITf3-bvqAMLM"
      },
      "source": [
        "import pandas as pd\n",
        "import numpy as np"
      ],
      "execution_count": null,
      "outputs": []
    },
    {
      "cell_type": "markdown",
      "metadata": {
        "id": "jwqk72Dl4TXE"
      },
      "source": [
        "### Parte 1\n",
        "Nessa primeira parte, vamos utilizar o conjunto de dados Iris com modificações (`iris_modif.data`)."
      ]
    },
    {
      "cell_type": "code",
      "metadata": {
        "colab": {
          "base_uri": "https://localhost:8080/",
          "height": 455
        },
        "id": "qft-nnRsAVoM",
        "outputId": "dbfafbcd-8db9-499f-8ba4-3d2f27114f02"
      },
      "source": [
        "iris = pd.read_csv('iris_modif.data', header=None, index_col=0)\n",
        "iris"
      ],
      "execution_count": null,
      "outputs": [
        {
          "output_type": "execute_result",
          "data": {
            "text/html": [
              "<div>\n",
              "<style scoped>\n",
              "    .dataframe tbody tr th:only-of-type {\n",
              "        vertical-align: middle;\n",
              "    }\n",
              "\n",
              "    .dataframe tbody tr th {\n",
              "        vertical-align: top;\n",
              "    }\n",
              "\n",
              "    .dataframe thead th {\n",
              "        text-align: right;\n",
              "    }\n",
              "</style>\n",
              "<table border=\"1\" class=\"dataframe\">\n",
              "  <thead>\n",
              "    <tr style=\"text-align: right;\">\n",
              "      <th></th>\n",
              "      <th>1</th>\n",
              "      <th>2</th>\n",
              "      <th>3</th>\n",
              "      <th>4</th>\n",
              "      <th>5</th>\n",
              "      <th>6</th>\n",
              "    </tr>\n",
              "    <tr>\n",
              "      <th>0</th>\n",
              "      <th></th>\n",
              "      <th></th>\n",
              "      <th></th>\n",
              "      <th></th>\n",
              "      <th></th>\n",
              "      <th></th>\n",
              "    </tr>\n",
              "  </thead>\n",
              "  <tbody>\n",
              "    <tr>\n",
              "      <th>0</th>\n",
              "      <td>4.9</td>\n",
              "      <td>3.0</td>\n",
              "      <td>49.0</td>\n",
              "      <td>1.4</td>\n",
              "      <td>0.2</td>\n",
              "      <td>Iris-setosa</td>\n",
              "    </tr>\n",
              "    <tr>\n",
              "      <th>1</th>\n",
              "      <td>4.7</td>\n",
              "      <td>3.2</td>\n",
              "      <td>47.0</td>\n",
              "      <td>1.3</td>\n",
              "      <td>0.2</td>\n",
              "      <td>Iris-setosa</td>\n",
              "    </tr>\n",
              "    <tr>\n",
              "      <th>2</th>\n",
              "      <td>4.6</td>\n",
              "      <td>3.1</td>\n",
              "      <td>46.0</td>\n",
              "      <td>1.5</td>\n",
              "      <td>0.2</td>\n",
              "      <td>Iris-setosa</td>\n",
              "    </tr>\n",
              "    <tr>\n",
              "      <th>3</th>\n",
              "      <td>5.0</td>\n",
              "      <td>3.6</td>\n",
              "      <td>50.0</td>\n",
              "      <td>1.4</td>\n",
              "      <td>0.2</td>\n",
              "      <td>Iris-setosa</td>\n",
              "    </tr>\n",
              "    <tr>\n",
              "      <th>4</th>\n",
              "      <td>5.4</td>\n",
              "      <td>3.9</td>\n",
              "      <td>54.0</td>\n",
              "      <td>1.7</td>\n",
              "      <td>0.4</td>\n",
              "      <td>Iris-setosa</td>\n",
              "    </tr>\n",
              "    <tr>\n",
              "      <th>...</th>\n",
              "      <td>...</td>\n",
              "      <td>...</td>\n",
              "      <td>...</td>\n",
              "      <td>...</td>\n",
              "      <td>...</td>\n",
              "      <td>...</td>\n",
              "    </tr>\n",
              "    <tr>\n",
              "      <th>153</th>\n",
              "      <td>67.0</td>\n",
              "      <td>33.0</td>\n",
              "      <td>670.0</td>\n",
              "      <td>57.0</td>\n",
              "      <td>21.0</td>\n",
              "      <td>Iris-virginica</td>\n",
              "    </tr>\n",
              "    <tr>\n",
              "      <th>154</th>\n",
              "      <td>79.0</td>\n",
              "      <td>38.0</td>\n",
              "      <td>790.0</td>\n",
              "      <td>64.0</td>\n",
              "      <td>20.0</td>\n",
              "      <td>Iris-virginica</td>\n",
              "    </tr>\n",
              "    <tr>\n",
              "      <th>155</th>\n",
              "      <td>61.0</td>\n",
              "      <td>28.0</td>\n",
              "      <td>610.0</td>\n",
              "      <td>47.0</td>\n",
              "      <td>12.0</td>\n",
              "      <td>Iris-versicolor</td>\n",
              "    </tr>\n",
              "    <tr>\n",
              "      <th>156</th>\n",
              "      <td>70.0</td>\n",
              "      <td>32.0</td>\n",
              "      <td>700.0</td>\n",
              "      <td>47.0</td>\n",
              "      <td>14.0</td>\n",
              "      <td>Iris-versicolor</td>\n",
              "    </tr>\n",
              "    <tr>\n",
              "      <th>157</th>\n",
              "      <td>63.0</td>\n",
              "      <td>25.0</td>\n",
              "      <td>630.0</td>\n",
              "      <td>49.0</td>\n",
              "      <td>15.0</td>\n",
              "      <td>Iris-versicolor</td>\n",
              "    </tr>\n",
              "  </tbody>\n",
              "</table>\n",
              "<p>158 rows × 6 columns</p>\n",
              "</div>"
            ],
            "text/plain": [
              "        1     2      3     4     5                6\n",
              "0                                                  \n",
              "0     4.9   3.0   49.0   1.4   0.2      Iris-setosa\n",
              "1     4.7   3.2   47.0   1.3   0.2      Iris-setosa\n",
              "2     4.6   3.1   46.0   1.5   0.2      Iris-setosa\n",
              "3     5.0   3.6   50.0   1.4   0.2      Iris-setosa\n",
              "4     5.4   3.9   54.0   1.7   0.4      Iris-setosa\n",
              "..    ...   ...    ...   ...   ...              ...\n",
              "153  67.0  33.0  670.0  57.0  21.0   Iris-virginica\n",
              "154  79.0  38.0  790.0  64.0  20.0   Iris-virginica\n",
              "155  61.0  28.0  610.0  47.0  12.0  Iris-versicolor\n",
              "156  70.0  32.0  700.0  47.0  14.0  Iris-versicolor\n",
              "157  63.0  25.0  630.0  49.0  15.0  Iris-versicolor\n",
              "\n",
              "[158 rows x 6 columns]"
            ]
          },
          "metadata": {
            "tags": []
          },
          "execution_count": 2
        }
      ]
    },
    {
      "cell_type": "markdown",
      "metadata": {
        "id": "Jz37m8uh9eY0"
      },
      "source": [
        "### Questão 01.\n",
        "\n",
        "* Utilizando as técnicas de visualização apresentadas até agora, verifique para cada atributo se existem outliers interpretando sua vizualização.\n",
        "* Aplique a técnica de Winsorização nos atributos que possuem outliers utilizando o 5º e 90º percentil do atributo dentro da classe que o exemplo pertence como limite inferior e superior respectivamente.\n",
        "* Calcule a cerca inferior (LF) e superior (UF) para cada um dos atributos. Substitua o valor dos outliers pela cerca mais próxima. Para ser considerados outliers, os valores devem estar além das cercas inferior ou superior.\n",
        "* Compare os resultados obtidos para cada atributo com os obtidos pela tec. de Winsorização.\n"
      ]
    },
    {
      "cell_type": "code",
      "metadata": {
        "id": "iCXciAEnQco3"
      },
      "source": [
        "import matplotlib.pyplot as plt\n",
        "\n",
        "# Função auxiliar para visualização\n",
        "def hist_and_boxplot(df, attr_name):\n",
        "\n",
        "  fig, axes = plt.subplots(1, 2)\n",
        "\n",
        "  df[attr_name].hist(ax=axes[0])\n",
        "  df.boxplot(column=attr_name, ax=axes[1])\n",
        "\n",
        "  fig.suptitle(f'Atributo {attr_name}', fontsize=10)\n"
      ],
      "execution_count": null,
      "outputs": []
    },
    {
      "cell_type": "code",
      "metadata": {
        "colab": {
          "base_uri": "https://localhost:8080/",
          "height": 294
        },
        "id": "TVnKjHpyWr1U",
        "outputId": "4c2ae118-4172-4b21-f842-8d8ee34d4cbb"
      },
      "source": [
        "hist_and_boxplot(iris, 1)"
      ],
      "execution_count": null,
      "outputs": [
        {
          "output_type": "display_data",
          "data": {
            "image/png": "[encoded data removed]",
            "text/plain": [
              "<Figure size 432x288 with 2 Axes>"
            ]
          },
          "metadata": {
            "tags": [],
            "needs_background": "light"
          }
        }
      ]
    },
    {
      "cell_type": "code",
      "metadata": {
        "colab": {
          "base_uri": "https://localhost:8080/",
          "height": 294
        },
        "id": "IfwN42ntWuVU",
        "outputId": "f12d3c00-e8a3-4b50-e1c7-c633128e4d9e"
      },
      "source": [
        "hist_and_boxplot(iris, 2)"
      ],
      "execution_count": null,
      "outputs": [
        {
          "output_type": "display_data",
          "data": {
            "image/png": "[encoded data removed]",
            "text/plain": [
              "<Figure size 432x288 with 2 Axes>"
            ]
          },
          "metadata": {
            "tags": [],
            "needs_background": "light"
          }
        }
      ]
    },
    {
      "cell_type": "code",
      "metadata": {
        "colab": {
          "base_uri": "https://localhost:8080/",
          "height": 294
        },
        "id": "_WUdRfD1WuIS",
        "outputId": "f05eb894-a09e-45c6-97f8-9deec12472fc"
      },
      "source": [
        "hist_and_boxplot(iris, 3)"
      ],
      "execution_count": null,
      "outputs": [
        {
          "output_type": "display_data",
          "data": {
            "image/png": "[encoded data removed]",
            "text/plain": [
              "<Figure size 432x288 with 2 Axes>"
            ]
          },
          "metadata": {
            "tags": [],
            "needs_background": "light"
          }
        }
      ]
    },
    {
      "cell_type": "code",
      "metadata": {
        "colab": {
          "base_uri": "https://localhost:8080/",
          "height": 294
        },
        "id": "Nf-cEBoAWt5o",
        "outputId": "872b6278-5327-499d-c969-7040d35b7079"
      },
      "source": [
        "hist_and_boxplot(iris, 4)"
      ],
      "execution_count": null,
      "outputs": [
        {
          "output_type": "display_data",
          "data": {
            "image/png": "[encoded data removed]",
            "text/plain": [
              "<Figure size 432x288 with 2 Axes>"
            ]
          },
          "metadata": {
            "tags": [],
            "needs_background": "light"
          }
        }
      ]
    },
    {
      "cell_type": "code",
      "metadata": {
        "colab": {
          "base_uri": "https://localhost:8080/",
          "height": 294
        },
        "id": "shpnmN5oReVb",
        "outputId": "d1a0fa47-b3f8-4a13-a66f-597927b22ee5"
      },
      "source": [
        "hist_and_boxplot(iris, 5)"
      ],
      "execution_count": null,
      "outputs": [
        {
          "output_type": "display_data",
          "data": {
            "image/png": "[encoded data removed]",
            "text/plain": [
              "<Figure size 432x288 with 2 Axes>"
            ]
          },
          "metadata": {
            "tags": [],
            "needs_background": "light"
          }
        }
      ]
    },
    {
      "cell_type": "markdown",
      "metadata": {
        "id": "z7Qg0t57SQcO"
      },
      "source": [
        "### Detecção de outliers via histogramas e boxplot\n",
        "\n",
        "Analisando tanto os histogramas quanto os boxplots de todos os atributos, é fácil observar a presença de valores cujas magnitudes são superiores aos demais. Pelo histograma observamos barras que ficam isoladas a direita das demais. Já pelo boxplot, a ferramenta de plot do Pandas identifica outliers como pontos, e todos os atributos possuem pontos acima da cerca superior (Q3 + 1.5 x IQR).\n",
        "\n",
        "<!-- - Atributo 1: muitos outliers acima da cerca superior\n",
        "- Atributo 2: idem atributo 1\n",
        "- Atributo 3: idem atributo 1\n",
        "- Atributo 4: idem atributo 1\n",
        "- Atributo 5: idem atributo 1 -->\n"
      ]
    },
    {
      "cell_type": "markdown",
      "metadata": {
        "id": "XdTBYNamXL1g"
      },
      "source": [
        "### Limitando dentro das cercas LF e UF"
      ]
    },
    {
      "cell_type": "code",
      "metadata": {
        "id": "jfQtUJoeNh38"
      },
      "source": [
        "def lf_uf(df, nome_attr):\n",
        "\n",
        "  df = df.copy(deep=True)\n",
        "\n",
        "  samples = df[nome_attr]\n",
        "\n",
        "  Q1 = samples.quantile(0.25)\n",
        "  Q3 = samples.quantile(0.75)\n",
        "  IQR = Q3 - Q1\n",
        "\n",
        "  LF = Q1 - 1.5*IQR\n",
        "  UF = Q3 + 1.5*IQR\n",
        "\n",
        "  print(f\"LF: {LF} // UF: {UF}\")\n",
        "\n",
        "  # Determinando indices a serem modificados\n",
        "  lower_than_LF = df[nome_attr] < LF\n",
        "  greater_than_UF = df[nome_attr] > UF\n",
        "\n",
        "  # Modificando valores\n",
        "  df.loc[lower_than_LF, nome_attr] = LF\n",
        "  df.loc[greater_than_UF, nome_attr] = UF\n",
        "\n",
        "  return df"
      ],
      "execution_count": null,
      "outputs": []
    },
    {
      "cell_type": "markdown",
      "metadata": {
        "id": "DkMOk_9GXYAv"
      },
      "source": [
        "### Winsorização"
      ]
    },
    {
      "cell_type": "code",
      "metadata": {
        "id": "JRPMbVtjuuc0"
      },
      "source": [
        "def winsorizacao(df, nome_attr):\n",
        "\n",
        "  df = df.copy(deep=True)\n",
        "\n",
        "  # filtrar por classe\n",
        "  for label in df[6].unique():\n",
        "\n",
        "    filtered_df = df[df[6] == label]\n",
        "    samples = filtered_df[nome_attr]\n",
        "\n",
        "    # print((samples))\n",
        "\n",
        "    lower_bound = samples.quantile(0.05)\n",
        "    upper_bound = samples.quantile(0.90)\n",
        "\n",
        "    print(f\"Para a classe {label}\")\n",
        "    print(f\"\\t - Limite inferior: {lower_bound} // Limite superior: {upper_bound}\")\n",
        "\n",
        "    # Determinando indices a serem modificados\n",
        "    lower_than_LF = filtered_df[filtered_df[nome_attr] < lower_bound].index\n",
        "    greater_than_UF = filtered_df[filtered_df[nome_attr] > upper_bound].index\n",
        "\n",
        "    # Modificando valores\n",
        "    df.loc[lower_than_LF, nome_attr] = lower_bound\n",
        "    df.loc[greater_than_UF, nome_attr] = upper_bound\n",
        "\n",
        "  return df\n"
      ],
      "execution_count": null,
      "outputs": []
    },
    {
      "cell_type": "markdown",
      "metadata": {
        "id": "nWImFKjuKusA"
      },
      "source": [
        "### Comparação entre as técnicas"
      ]
    },
    {
      "cell_type": "code",
      "metadata": {
        "id": "HvghQOXDO1y2"
      },
      "source": [
        "from scipy import stats"
      ],
      "execution_count": null,
      "outputs": []
    },
    {
      "cell_type": "code",
      "metadata": {
        "id": "xCZaXDeiXrn5"
      },
      "source": [
        "atributo_de_analise = 5"
      ],
      "execution_count": null,
      "outputs": []
    },
    {
      "cell_type": "code",
      "metadata": {
        "colab": {
          "base_uri": "https://localhost:8080/",
          "height": 294
        },
        "id": "3dNLFsXPXW9p",
        "outputId": "d8ac301b-48be-4ea0-ae83-336a7a524b3c"
      },
      "source": [
        "# original\n",
        "hist_and_boxplot(iris, atributo_de_analise)"
      ],
      "execution_count": null,
      "outputs": [
        {
          "output_type": "display_data",
          "data": {
            "image/png": "[encoded data removed]",
            "text/plain": [
              "<Figure size 432x288 with 2 Axes>"
            ]
          },
          "metadata": {
            "tags": [],
            "needs_background": "light"
          }
        }
      ]
    },
    {
      "cell_type": "code",
      "metadata": {
        "colab": {
          "base_uri": "https://localhost:8080/",
          "height": 300
        },
        "id": "qgaGLu5Ym3_u",
        "outputId": "843cb96d-dd7b-425b-abb5-076ccd6c4c6d"
      },
      "source": [
        "iris.describe()"
      ],
      "execution_count": null,
      "outputs": [
        {
          "output_type": "execute_result",
          "data": {
            "text/html": [
              "<div>\n",
              "<style scoped>\n",
              "    .dataframe tbody tr th:only-of-type {\n",
              "        vertical-align: middle;\n",
              "    }\n",
              "\n",
              "    .dataframe tbody tr th {\n",
              "        vertical-align: top;\n",
              "    }\n",
              "\n",
              "    .dataframe thead th {\n",
              "        text-align: right;\n",
              "    }\n",
              "</style>\n",
              "<table border=\"1\" class=\"dataframe\">\n",
              "  <thead>\n",
              "    <tr style=\"text-align: right;\">\n",
              "      <th></th>\n",
              "      <th>1</th>\n",
              "      <th>2</th>\n",
              "      <th>3</th>\n",
              "      <th>4</th>\n",
              "      <th>5</th>\n",
              "    </tr>\n",
              "  </thead>\n",
              "  <tbody>\n",
              "    <tr>\n",
              "      <th>count</th>\n",
              "      <td>158.000000</td>\n",
              "      <td>158.000000</td>\n",
              "      <td>158.000000</td>\n",
              "      <td>158.000000</td>\n",
              "      <td>158.000000</td>\n",
              "    </tr>\n",
              "    <tr>\n",
              "      <th>mean</th>\n",
              "      <td>8.939241</td>\n",
              "      <td>4.662025</td>\n",
              "      <td>89.392405</td>\n",
              "      <td>5.837975</td>\n",
              "      <td>1.813924</td>\n",
              "    </tr>\n",
              "    <tr>\n",
              "      <th>std</th>\n",
              "      <td>12.892761</td>\n",
              "      <td>6.668087</td>\n",
              "      <td>128.927612</td>\n",
              "      <td>9.657211</td>\n",
              "      <td>3.153594</td>\n",
              "    </tr>\n",
              "    <tr>\n",
              "      <th>min</th>\n",
              "      <td>4.300000</td>\n",
              "      <td>2.000000</td>\n",
              "      <td>43.000000</td>\n",
              "      <td>1.000000</td>\n",
              "      <td>0.100000</td>\n",
              "    </tr>\n",
              "    <tr>\n",
              "      <th>25%</th>\n",
              "      <td>5.125000</td>\n",
              "      <td>2.800000</td>\n",
              "      <td>51.250000</td>\n",
              "      <td>1.600000</td>\n",
              "      <td>0.325000</td>\n",
              "    </tr>\n",
              "    <tr>\n",
              "      <th>50%</th>\n",
              "      <td>5.850000</td>\n",
              "      <td>3.000000</td>\n",
              "      <td>58.500000</td>\n",
              "      <td>4.500000</td>\n",
              "      <td>1.400000</td>\n",
              "    </tr>\n",
              "    <tr>\n",
              "      <th>75%</th>\n",
              "      <td>6.500000</td>\n",
              "      <td>3.400000</td>\n",
              "      <td>65.000000</td>\n",
              "      <td>5.300000</td>\n",
              "      <td>1.900000</td>\n",
              "    </tr>\n",
              "    <tr>\n",
              "      <th>max</th>\n",
              "      <td>79.000000</td>\n",
              "      <td>38.000000</td>\n",
              "      <td>790.000000</td>\n",
              "      <td>64.000000</td>\n",
              "      <td>21.000000</td>\n",
              "    </tr>\n",
              "  </tbody>\n",
              "</table>\n",
              "</div>"
            ],
            "text/plain": [
              "                1           2           3           4           5\n",
              "count  158.000000  158.000000  158.000000  158.000000  158.000000\n",
              "mean     8.939241    4.662025   89.392405    5.837975    1.813924\n",
              "std     12.892761    6.668087  128.927612    9.657211    3.153594\n",
              "min      4.300000    2.000000   43.000000    1.000000    0.100000\n",
              "25%      5.125000    2.800000   51.250000    1.600000    0.325000\n",
              "50%      5.850000    3.000000   58.500000    4.500000    1.400000\n",
              "75%      6.500000    3.400000   65.000000    5.300000    1.900000\n",
              "max     79.000000   38.000000  790.000000   64.000000   21.000000"
            ]
          },
          "metadata": {
            "tags": []
          },
          "execution_count": 14
        }
      ]
    },
    {
      "cell_type": "code",
      "metadata": {
        "colab": {
          "base_uri": "https://localhost:8080/",
          "height": 329
        },
        "id": "MrJIc59iWZTd",
        "outputId": "f2b92d62-ff55-4562-9458-eeffadb27f21"
      },
      "source": [
        "# Utilizando cercas LF e UF\n",
        "iris_lfuf = lf_uf(iris, atributo_de_analise)\n",
        "hist_and_boxplot(iris_lfuf, atributo_de_analise)\n",
        "# hist_and_boxplot(iris_lfuf[iris_lfuf[6] == \"Iris-setosa\"], attributo_de_analise)\n",
        "print(f\"- Obliquidade: {stats.skew(iris_lfuf[atributo_de_analise])}\")"
      ],
      "execution_count": null,
      "outputs": [
        {
          "output_type": "stream",
          "text": [
            "LF: -2.0374999999999996 // UF: 4.262499999999999\n",
            "- Obliquidade: 0.8217729978453694\n"
          ],
          "name": "stdout"
        },
        {
          "output_type": "display_data",
          "data": {
            "image/png": "[encoded data removed]",
            "text/plain": [
              "<Figure size 432x288 with 2 Axes>"
            ]
          },
          "metadata": {
            "tags": [],
            "needs_background": "light"
          }
        }
      ]
    },
    {
      "cell_type": "code",
      "metadata": {
        "colab": {
          "base_uri": "https://localhost:8080/",
          "height": 300
        },
        "id": "BU2WJfvPmzg7",
        "outputId": "85d7631f-03ce-4003-ed15-10b96e74db88"
      },
      "source": [
        "iris_lfuf.describe()"
      ],
      "execution_count": null,
      "outputs": [
        {
          "output_type": "execute_result",
          "data": {
            "text/html": [
              "<div>\n",
              "<style scoped>\n",
              "    .dataframe tbody tr th:only-of-type {\n",
              "        vertical-align: middle;\n",
              "    }\n",
              "\n",
              "    .dataframe tbody tr th {\n",
              "        vertical-align: top;\n",
              "    }\n",
              "\n",
              "    .dataframe thead th {\n",
              "        text-align: right;\n",
              "    }\n",
              "</style>\n",
              "<table border=\"1\" class=\"dataframe\">\n",
              "  <thead>\n",
              "    <tr style=\"text-align: right;\">\n",
              "      <th></th>\n",
              "      <th>1</th>\n",
              "      <th>2</th>\n",
              "      <th>3</th>\n",
              "      <th>4</th>\n",
              "      <th>5</th>\n",
              "    </tr>\n",
              "  </thead>\n",
              "  <tbody>\n",
              "    <tr>\n",
              "      <th>count</th>\n",
              "      <td>158.000000</td>\n",
              "      <td>158.000000</td>\n",
              "      <td>158.000000</td>\n",
              "      <td>158.000000</td>\n",
              "      <td>158.000000</td>\n",
              "    </tr>\n",
              "    <tr>\n",
              "      <th>mean</th>\n",
              "      <td>8.939241</td>\n",
              "      <td>4.662025</td>\n",
              "      <td>89.392405</td>\n",
              "      <td>5.837975</td>\n",
              "      <td>1.336551</td>\n",
              "    </tr>\n",
              "    <tr>\n",
              "      <th>std</th>\n",
              "      <td>12.892761</td>\n",
              "      <td>6.668087</td>\n",
              "      <td>128.927612</td>\n",
              "      <td>9.657211</td>\n",
              "      <td>0.947768</td>\n",
              "    </tr>\n",
              "    <tr>\n",
              "      <th>min</th>\n",
              "      <td>4.300000</td>\n",
              "      <td>2.000000</td>\n",
              "      <td>43.000000</td>\n",
              "      <td>1.000000</td>\n",
              "      <td>0.100000</td>\n",
              "    </tr>\n",
              "    <tr>\n",
              "      <th>25%</th>\n",
              "      <td>5.125000</td>\n",
              "      <td>2.800000</td>\n",
              "      <td>51.250000</td>\n",
              "      <td>1.600000</td>\n",
              "      <td>0.325000</td>\n",
              "    </tr>\n",
              "    <tr>\n",
              "      <th>50%</th>\n",
              "      <td>5.850000</td>\n",
              "      <td>3.000000</td>\n",
              "      <td>58.500000</td>\n",
              "      <td>4.500000</td>\n",
              "      <td>1.400000</td>\n",
              "    </tr>\n",
              "    <tr>\n",
              "      <th>75%</th>\n",
              "      <td>6.500000</td>\n",
              "      <td>3.400000</td>\n",
              "      <td>65.000000</td>\n",
              "      <td>5.300000</td>\n",
              "      <td>1.900000</td>\n",
              "    </tr>\n",
              "    <tr>\n",
              "      <th>max</th>\n",
              "      <td>79.000000</td>\n",
              "      <td>38.000000</td>\n",
              "      <td>790.000000</td>\n",
              "      <td>64.000000</td>\n",
              "      <td>4.262500</td>\n",
              "    </tr>\n",
              "  </tbody>\n",
              "</table>\n",
              "</div>"
            ],
            "text/plain": [
              "                1           2           3           4           5\n",
              "count  158.000000  158.000000  158.000000  158.000000  158.000000\n",
              "mean     8.939241    4.662025   89.392405    5.837975    1.336551\n",
              "std     12.892761    6.668087  128.927612    9.657211    0.947768\n",
              "min      4.300000    2.000000   43.000000    1.000000    0.100000\n",
              "25%      5.125000    2.800000   51.250000    1.600000    0.325000\n",
              "50%      5.850000    3.000000   58.500000    4.500000    1.400000\n",
              "75%      6.500000    3.400000   65.000000    5.300000    1.900000\n",
              "max     79.000000   38.000000  790.000000   64.000000    4.262500"
            ]
          },
          "metadata": {
            "tags": []
          },
          "execution_count": 16
        }
      ]
    },
    {
      "cell_type": "code",
      "metadata": {
        "colab": {
          "base_uri": "https://localhost:8080/",
          "height": 416
        },
        "id": "-Yuwj_A42kp6",
        "outputId": "e369c254-ac96-4036-cfed-c37dd7398c73"
      },
      "source": [
        "# Utilizando winsorização\n",
        "\n",
        "# atributo_de_analise = 3\n",
        "iris_win = winsorizacao(iris, atributo_de_analise)\n",
        "hist_and_boxplot(iris_win, atributo_de_analise)\n",
        "# hist_and_boxplot(iris_win[iris_win[6] == \"Iris-setosa\"], atributo_de_analise)\n",
        "print(f\"- Obliquidade: {stats.skew(iris_win[atributo_de_analise])}\")"
      ],
      "execution_count": null,
      "outputs": [
        {
          "output_type": "stream",
          "text": [
            "Para a classe Iris-setosa\n",
            "\t - Limite inferior: 0.1 // Limite superior: 0.4\n",
            "Para a classe Iris-versicolor\n",
            "\t - Limite inferior: 1.0 // Limite superior: 1.6\n",
            "Para a classe Iris-virginica\n",
            "\t - Limite inferior: 1.56 // Limite superior: 2.4800000000000004\n",
            "- Obliquidade: -0.10585198162676197\n"
          ],
          "name": "stdout"
        },
        {
          "output_type": "display_data",
          "data": {
            "image/png": "[encoded data removed]",
            "text/plain": [
              "<Figure size 432x288 with 2 Axes>"
            ]
          },
          "metadata": {
            "tags": [],
            "needs_background": "light"
          }
        }
      ]
    },
    {
      "cell_type": "code",
      "metadata": {
        "colab": {
          "base_uri": "https://localhost:8080/",
          "height": 300
        },
        "id": "Xnl-Im2Gm_2m",
        "outputId": "60025b96-f758-483c-912a-ed9a6ccebcbb"
      },
      "source": [
        "iris_win.describe()"
      ],
      "execution_count": null,
      "outputs": [
        {
          "output_type": "execute_result",
          "data": {
            "text/html": [
              "<div>\n",
              "<style scoped>\n",
              "    .dataframe tbody tr th:only-of-type {\n",
              "        vertical-align: middle;\n",
              "    }\n",
              "\n",
              "    .dataframe tbody tr th {\n",
              "        vertical-align: top;\n",
              "    }\n",
              "\n",
              "    .dataframe thead th {\n",
              "        text-align: right;\n",
              "    }\n",
              "</style>\n",
              "<table border=\"1\" class=\"dataframe\">\n",
              "  <thead>\n",
              "    <tr style=\"text-align: right;\">\n",
              "      <th></th>\n",
              "      <th>1</th>\n",
              "      <th>2</th>\n",
              "      <th>3</th>\n",
              "      <th>4</th>\n",
              "      <th>5</th>\n",
              "    </tr>\n",
              "  </thead>\n",
              "  <tbody>\n",
              "    <tr>\n",
              "      <th>count</th>\n",
              "      <td>158.000000</td>\n",
              "      <td>158.000000</td>\n",
              "      <td>158.000000</td>\n",
              "      <td>158.000000</td>\n",
              "      <td>158.000000</td>\n",
              "    </tr>\n",
              "    <tr>\n",
              "      <th>mean</th>\n",
              "      <td>8.939241</td>\n",
              "      <td>4.662025</td>\n",
              "      <td>89.392405</td>\n",
              "      <td>5.837975</td>\n",
              "      <td>1.219367</td>\n",
              "    </tr>\n",
              "    <tr>\n",
              "      <th>std</th>\n",
              "      <td>12.892761</td>\n",
              "      <td>6.668087</td>\n",
              "      <td>128.927612</td>\n",
              "      <td>9.657211</td>\n",
              "      <td>0.770433</td>\n",
              "    </tr>\n",
              "    <tr>\n",
              "      <th>min</th>\n",
              "      <td>4.300000</td>\n",
              "      <td>2.000000</td>\n",
              "      <td>43.000000</td>\n",
              "      <td>1.000000</td>\n",
              "      <td>0.100000</td>\n",
              "    </tr>\n",
              "    <tr>\n",
              "      <th>25%</th>\n",
              "      <td>5.125000</td>\n",
              "      <td>2.800000</td>\n",
              "      <td>51.250000</td>\n",
              "      <td>1.600000</td>\n",
              "      <td>0.325000</td>\n",
              "    </tr>\n",
              "    <tr>\n",
              "      <th>50%</th>\n",
              "      <td>5.850000</td>\n",
              "      <td>3.000000</td>\n",
              "      <td>58.500000</td>\n",
              "      <td>4.500000</td>\n",
              "      <td>1.300000</td>\n",
              "    </tr>\n",
              "    <tr>\n",
              "      <th>75%</th>\n",
              "      <td>6.500000</td>\n",
              "      <td>3.400000</td>\n",
              "      <td>65.000000</td>\n",
              "      <td>5.300000</td>\n",
              "      <td>1.800000</td>\n",
              "    </tr>\n",
              "    <tr>\n",
              "      <th>max</th>\n",
              "      <td>79.000000</td>\n",
              "      <td>38.000000</td>\n",
              "      <td>790.000000</td>\n",
              "      <td>64.000000</td>\n",
              "      <td>2.480000</td>\n",
              "    </tr>\n",
              "  </tbody>\n",
              "</table>\n",
              "</div>"
            ],
            "text/plain": [
              "                1           2           3           4           5\n",
              "count  158.000000  158.000000  158.000000  158.000000  158.000000\n",
              "mean     8.939241    4.662025   89.392405    5.837975    1.219367\n",
              "std     12.892761    6.668087  128.927612    9.657211    0.770433\n",
              "min      4.300000    2.000000   43.000000    1.000000    0.100000\n",
              "25%      5.125000    2.800000   51.250000    1.600000    0.325000\n",
              "50%      5.850000    3.000000   58.500000    4.500000    1.300000\n",
              "75%      6.500000    3.400000   65.000000    5.300000    1.800000\n",
              "max     79.000000   38.000000  790.000000   64.000000    2.480000"
            ]
          },
          "metadata": {
            "tags": []
          },
          "execution_count": 18
        }
      ]
    },
    {
      "cell_type": "markdown",
      "metadata": {
        "id": "7pDgQAaZ3rEk"
      },
      "source": [
        "### Dicussão\n",
        "\n",
        "No geral, observa-se que ambas as técnicas cumpriram com sucesso o objetivo de remover outliers. Uma diferença observada entre os resultados é que cada técnica gerou intervalos de valores diferentes (diferentes máximos e mínimos). Porém, a técnica de winsorização gerou distribuições de valores mais \"centrados\". Este fato fica evidente ao analisar a obliquidade dos valores produzidos pelas duas técnicas, uma vez que os valores produzidos pela técnica de winsorização tem menor módulo de obliquidade em todos os casos. Por fim, a limitação da winsorização é a escolha dos percentis exatos para a eliminação dos outliers.\n",
        "\n",
        "<!--\n",
        "- **Atributo 1**: Nota-se que ambas as técnicas cumpriram seu papel de remover os outliers presentes. A diferença mais marcante entras técnicas é que a winsorização produziu uma distribuição de valores mais \"centrada\" para este atributo. -->\n",
        "\n",
        "<!-- - **Atributo 1**: Como resultado do processo de Winsorização, nota-se que os outliers apontados como pontos no boxplot do pandas foram removidos. Além disto, devido a remoção de outliers os exemplos de valor alto que ficam a direita do restante dos exemplos foram removidos, resultando em um histograma mais \"centrado\". Os boxplots, por sua vez, também ficaram mais centrados.\n",
        "\n",
        "- **Atributo 2**: idem atributo 1.\n",
        "\n",
        "- **Atributo 3**: idem atributo 1.\n",
        "\n",
        "- **Atributo 4**: Assim como os anteriores, os valores discrepantes mais a direita da distribuição foram removidos e seu boxplot ficou mais centrado. Observa-se que neste caso ainda há uma grande quantidade de valores com valor inferior a 2.\n",
        "\n",
        "- **Atributo 5**: idem atributo 4, porém há uma grande concentração de valores inferiores a 1 neste caso. -->\n"
      ]
    },
    {
      "cell_type": "markdown",
      "metadata": {
        "id": "qMovNx1P35aE"
      },
      "source": [
        "### Questão 02.\n",
        "* Identifique visualmente ou programaticamente se existem atributos reduntantes nessa base. Caso exista, crie um novo `Dataframe` sem eles.\n",
        "* **Dica**: Atributos redundantes são aqueles que trazem a mesma informação ou que seja possível calcular um a partir do outro. Por exemplo: Data de aniversário e idade."
      ]
    },
    {
      "cell_type": "markdown",
      "metadata": {
        "id": "PyU-dlafQOYd"
      },
      "source": [
        "### Dicussão\n",
        "\n",
        "Por inspeção visual, é facil observar que a coluna 3 corresponde aos valores da coluna 1 multiplicados por 10."
      ]
    },
    {
      "cell_type": "code",
      "metadata": {
        "id": "k9cq3nxONvE_",
        "colab": {
          "base_uri": "https://localhost:8080/",
          "height": 394
        },
        "outputId": "339255a8-8951-46dc-b43e-76bc417faffe"
      },
      "source": [
        "iris.head(10)"
      ],
      "execution_count": null,
      "outputs": [
        {
          "output_type": "execute_result",
          "data": {
            "text/html": [
              "<div>\n",
              "<style scoped>\n",
              "    .dataframe tbody tr th:only-of-type {\n",
              "        vertical-align: middle;\n",
              "    }\n",
              "\n",
              "    .dataframe tbody tr th {\n",
              "        vertical-align: top;\n",
              "    }\n",
              "\n",
              "    .dataframe thead th {\n",
              "        text-align: right;\n",
              "    }\n",
              "</style>\n",
              "<table border=\"1\" class=\"dataframe\">\n",
              "  <thead>\n",
              "    <tr style=\"text-align: right;\">\n",
              "      <th></th>\n",
              "      <th>1</th>\n",
              "      <th>2</th>\n",
              "      <th>3</th>\n",
              "      <th>4</th>\n",
              "      <th>5</th>\n",
              "      <th>6</th>\n",
              "    </tr>\n",
              "    <tr>\n",
              "      <th>0</th>\n",
              "      <th></th>\n",
              "      <th></th>\n",
              "      <th></th>\n",
              "      <th></th>\n",
              "      <th></th>\n",
              "      <th></th>\n",
              "    </tr>\n",
              "  </thead>\n",
              "  <tbody>\n",
              "    <tr>\n",
              "      <th>0</th>\n",
              "      <td>4.9</td>\n",
              "      <td>3.0</td>\n",
              "      <td>49.0</td>\n",
              "      <td>1.4</td>\n",
              "      <td>0.2</td>\n",
              "      <td>Iris-setosa</td>\n",
              "    </tr>\n",
              "    <tr>\n",
              "      <th>1</th>\n",
              "      <td>4.7</td>\n",
              "      <td>3.2</td>\n",
              "      <td>47.0</td>\n",
              "      <td>1.3</td>\n",
              "      <td>0.2</td>\n",
              "      <td>Iris-setosa</td>\n",
              "    </tr>\n",
              "    <tr>\n",
              "      <th>2</th>\n",
              "      <td>4.6</td>\n",
              "      <td>3.1</td>\n",
              "      <td>46.0</td>\n",
              "      <td>1.5</td>\n",
              "      <td>0.2</td>\n",
              "      <td>Iris-setosa</td>\n",
              "    </tr>\n",
              "    <tr>\n",
              "      <th>3</th>\n",
              "      <td>5.0</td>\n",
              "      <td>3.6</td>\n",
              "      <td>50.0</td>\n",
              "      <td>1.4</td>\n",
              "      <td>0.2</td>\n",
              "      <td>Iris-setosa</td>\n",
              "    </tr>\n",
              "    <tr>\n",
              "      <th>4</th>\n",
              "      <td>5.4</td>\n",
              "      <td>3.9</td>\n",
              "      <td>54.0</td>\n",
              "      <td>1.7</td>\n",
              "      <td>0.4</td>\n",
              "      <td>Iris-setosa</td>\n",
              "    </tr>\n",
              "    <tr>\n",
              "      <th>5</th>\n",
              "      <td>4.6</td>\n",
              "      <td>3.4</td>\n",
              "      <td>46.0</td>\n",
              "      <td>1.4</td>\n",
              "      <td>0.3</td>\n",
              "      <td>Iris-setosa</td>\n",
              "    </tr>\n",
              "    <tr>\n",
              "      <th>6</th>\n",
              "      <td>5.0</td>\n",
              "      <td>3.4</td>\n",
              "      <td>50.0</td>\n",
              "      <td>1.5</td>\n",
              "      <td>0.2</td>\n",
              "      <td>Iris-setosa</td>\n",
              "    </tr>\n",
              "    <tr>\n",
              "      <th>7</th>\n",
              "      <td>4.4</td>\n",
              "      <td>2.9</td>\n",
              "      <td>44.0</td>\n",
              "      <td>1.4</td>\n",
              "      <td>0.2</td>\n",
              "      <td>Iris-setosa</td>\n",
              "    </tr>\n",
              "    <tr>\n",
              "      <th>8</th>\n",
              "      <td>4.9</td>\n",
              "      <td>3.1</td>\n",
              "      <td>49.0</td>\n",
              "      <td>1.5</td>\n",
              "      <td>0.1</td>\n",
              "      <td>Iris-setosa</td>\n",
              "    </tr>\n",
              "    <tr>\n",
              "      <th>9</th>\n",
              "      <td>5.4</td>\n",
              "      <td>3.7</td>\n",
              "      <td>54.0</td>\n",
              "      <td>1.5</td>\n",
              "      <td>0.2</td>\n",
              "      <td>Iris-setosa</td>\n",
              "    </tr>\n",
              "  </tbody>\n",
              "</table>\n",
              "</div>"
            ],
            "text/plain": [
              "     1    2     3    4    5            6\n",
              "0                                       \n",
              "0  4.9  3.0  49.0  1.4  0.2  Iris-setosa\n",
              "1  4.7  3.2  47.0  1.3  0.2  Iris-setosa\n",
              "2  4.6  3.1  46.0  1.5  0.2  Iris-setosa\n",
              "3  5.0  3.6  50.0  1.4  0.2  Iris-setosa\n",
              "4  5.4  3.9  54.0  1.7  0.4  Iris-setosa\n",
              "5  4.6  3.4  46.0  1.4  0.3  Iris-setosa\n",
              "6  5.0  3.4  50.0  1.5  0.2  Iris-setosa\n",
              "7  4.4  2.9  44.0  1.4  0.2  Iris-setosa\n",
              "8  4.9  3.1  49.0  1.5  0.1  Iris-setosa\n",
              "9  5.4  3.7  54.0  1.5  0.2  Iris-setosa"
            ]
          },
          "metadata": {
            "tags": []
          },
          "execution_count": 19
        }
      ]
    },
    {
      "cell_type": "code",
      "metadata": {
        "colab": {
          "base_uri": "https://localhost:8080/",
          "height": 920
        },
        "id": "EwRbRE9hpFSa",
        "outputId": "6509c314-c4b0-4c5d-c2f0-4884bf2d9f40"
      },
      "source": [
        "import seaborn as sns\n",
        "sns.pairplot(iris, hue=6, diag_kind='hist')"
      ],
      "execution_count": null,
      "outputs": [
        {
          "output_type": "execute_result",
          "data": {
            "text/plain": [
              "<seaborn.axisgrid.PairGrid at 0x7f1acdf0af10>"
            ]
          },
          "metadata": {
            "tags": []
          },
          "execution_count": 20
        },
        {
          "output_type": "display_data",
          "data": {
            "image/png": "[encoded data removed]",
            "text/plain": [
              "<Figure size 1003.25x900 with 30 Axes>"
            ]
          },
          "metadata": {
            "tags": [],
            "needs_background": "light"
          }
        }
      ]
    },
    {
      "cell_type": "code",
      "metadata": {
        "colab": {
          "base_uri": "https://localhost:8080/",
          "height": 394
        },
        "id": "0Jsohgzh9lin",
        "outputId": "f2b4a1a7-004b-45fa-9bd1-6248b9e74e44"
      },
      "source": [
        "# o atributo 3 é 10* o atributo 1\n",
        "new_iris = iris.drop(columns=[3])\n",
        "new_iris.head(10)"
      ],
      "execution_count": null,
      "outputs": [
        {
          "output_type": "execute_result",
          "data": {
            "text/html": [
              "<div>\n",
              "<style scoped>\n",
              "    .dataframe tbody tr th:only-of-type {\n",
              "        vertical-align: middle;\n",
              "    }\n",
              "\n",
              "    .dataframe tbody tr th {\n",
              "        vertical-align: top;\n",
              "    }\n",
              "\n",
              "    .dataframe thead th {\n",
              "        text-align: right;\n",
              "    }\n",
              "</style>\n",
              "<table border=\"1\" class=\"dataframe\">\n",
              "  <thead>\n",
              "    <tr style=\"text-align: right;\">\n",
              "      <th></th>\n",
              "      <th>1</th>\n",
              "      <th>2</th>\n",
              "      <th>4</th>\n",
              "      <th>5</th>\n",
              "      <th>6</th>\n",
              "    </tr>\n",
              "    <tr>\n",
              "      <th>0</th>\n",
              "      <th></th>\n",
              "      <th></th>\n",
              "      <th></th>\n",
              "      <th></th>\n",
              "      <th></th>\n",
              "    </tr>\n",
              "  </thead>\n",
              "  <tbody>\n",
              "    <tr>\n",
              "      <th>0</th>\n",
              "      <td>4.9</td>\n",
              "      <td>3.0</td>\n",
              "      <td>1.4</td>\n",
              "      <td>0.2</td>\n",
              "      <td>Iris-setosa</td>\n",
              "    </tr>\n",
              "    <tr>\n",
              "      <th>1</th>\n",
              "      <td>4.7</td>\n",
              "      <td>3.2</td>\n",
              "      <td>1.3</td>\n",
              "      <td>0.2</td>\n",
              "      <td>Iris-setosa</td>\n",
              "    </tr>\n",
              "    <tr>\n",
              "      <th>2</th>\n",
              "      <td>4.6</td>\n",
              "      <td>3.1</td>\n",
              "      <td>1.5</td>\n",
              "      <td>0.2</td>\n",
              "      <td>Iris-setosa</td>\n",
              "    </tr>\n",
              "    <tr>\n",
              "      <th>3</th>\n",
              "      <td>5.0</td>\n",
              "      <td>3.6</td>\n",
              "      <td>1.4</td>\n",
              "      <td>0.2</td>\n",
              "      <td>Iris-setosa</td>\n",
              "    </tr>\n",
              "    <tr>\n",
              "      <th>4</th>\n",
              "      <td>5.4</td>\n",
              "      <td>3.9</td>\n",
              "      <td>1.7</td>\n",
              "      <td>0.4</td>\n",
              "      <td>Iris-setosa</td>\n",
              "    </tr>\n",
              "    <tr>\n",
              "      <th>5</th>\n",
              "      <td>4.6</td>\n",
              "      <td>3.4</td>\n",
              "      <td>1.4</td>\n",
              "      <td>0.3</td>\n",
              "      <td>Iris-setosa</td>\n",
              "    </tr>\n",
              "    <tr>\n",
              "      <th>6</th>\n",
              "      <td>5.0</td>\n",
              "      <td>3.4</td>\n",
              "      <td>1.5</td>\n",
              "      <td>0.2</td>\n",
              "      <td>Iris-setosa</td>\n",
              "    </tr>\n",
              "    <tr>\n",
              "      <th>7</th>\n",
              "      <td>4.4</td>\n",
              "      <td>2.9</td>\n",
              "      <td>1.4</td>\n",
              "      <td>0.2</td>\n",
              "      <td>Iris-setosa</td>\n",
              "    </tr>\n",
              "    <tr>\n",
              "      <th>8</th>\n",
              "      <td>4.9</td>\n",
              "      <td>3.1</td>\n",
              "      <td>1.5</td>\n",
              "      <td>0.1</td>\n",
              "      <td>Iris-setosa</td>\n",
              "    </tr>\n",
              "    <tr>\n",
              "      <th>9</th>\n",
              "      <td>5.4</td>\n",
              "      <td>3.7</td>\n",
              "      <td>1.5</td>\n",
              "      <td>0.2</td>\n",
              "      <td>Iris-setosa</td>\n",
              "    </tr>\n",
              "  </tbody>\n",
              "</table>\n",
              "</div>"
            ],
            "text/plain": [
              "     1    2    4    5            6\n",
              "0                                 \n",
              "0  4.9  3.0  1.4  0.2  Iris-setosa\n",
              "1  4.7  3.2  1.3  0.2  Iris-setosa\n",
              "2  4.6  3.1  1.5  0.2  Iris-setosa\n",
              "3  5.0  3.6  1.4  0.2  Iris-setosa\n",
              "4  5.4  3.9  1.7  0.4  Iris-setosa\n",
              "5  4.6  3.4  1.4  0.3  Iris-setosa\n",
              "6  5.0  3.4  1.5  0.2  Iris-setosa\n",
              "7  4.4  2.9  1.4  0.2  Iris-setosa\n",
              "8  4.9  3.1  1.5  0.1  Iris-setosa\n",
              "9  5.4  3.7  1.5  0.2  Iris-setosa"
            ]
          },
          "metadata": {
            "tags": []
          },
          "execution_count": 21
        }
      ]
    },
    {
      "cell_type": "markdown",
      "metadata": {
        "id": "-cxB49sEfTe4"
      },
      "source": [
        "### Questão 03.\n",
        "\n",
        "*   Assumindo que o atributo '1' segue uma distribuição normal, calcule a probabilidade de uma observação X deste atributo estar no intervalo 5.045 < X < 6.741.\n",
        "* Verifique quais outros atributos possuem esta mesma probabilidade para valores nesta mesma faixa. Neste caso, eles seguem uma distribuição normal?"
      ]
    },
    {
      "cell_type": "code",
      "metadata": {
        "id": "8bjd_KrsNszZ"
      },
      "source": [
        "# função auxuliar para aplicar winsorização em todos os atributos\n",
        "def full_winsorization(df):\n",
        "\n",
        "  df = df.copy(deep=True)\n",
        "  columns = [1, 2, 3, 4, 5]\n",
        "\n",
        "  for col in columns:\n",
        "\n",
        "    df = winsorizacao(df, col)\n",
        "\n",
        "  return df"
      ],
      "execution_count": null,
      "outputs": []
    },
    {
      "cell_type": "code",
      "metadata": {
        "colab": {
          "base_uri": "https://localhost:8080/",
          "height": 281
        },
        "id": "wTkNErtFfVqi",
        "outputId": "2ebd9a45-7a6c-4efb-9864-9461854ed6aa"
      },
      "source": [
        "from scipy.stats import norm\n",
        "\n",
        "def view(df, nome_attr):\n",
        "  df.hist(nome_attr, density=1)\n",
        "  df[nome_attr].plot.kde()\n",
        "  normal = pd.Series(norm.rvs(df[nome_attr].mean(), df[nome_attr].std(), size=100000))\n",
        "  normal.plot.kde()\n",
        "\n",
        "view(iris, 1) #iris com outliers"
      ],
      "execution_count": null,
      "outputs": [
        {
          "output_type": "display_data",
          "data": {
            "image/png": "[encoded data removed]",
            "text/plain": [
              "<Figure size 432x288 with 1 Axes>"
            ]
          },
          "metadata": {
            "tags": [],
            "needs_background": "light"
          }
        }
      ]
    },
    {
      "cell_type": "code",
      "metadata": {
        "colab": {
          "base_uri": "https://localhost:8080/"
        },
        "id": "dIBL4JhhPo1l",
        "outputId": "95bed407-0b69-4708-cf26-d7b7439e12fb"
      },
      "source": [
        "iris_win = full_winsorization(iris)"
      ],
      "execution_count": null,
      "outputs": [
        {
          "output_type": "stream",
          "text": [
            "Para a classe Iris-setosa\n",
            "\t - Limite inferior: 4.4 // Limite superior: 5.68\n",
            "Para a classe Iris-versicolor\n",
            "\t - Limite inferior: 5.06 // Limite superior: 6.78\n",
            "Para a classe Iris-virginica\n",
            "\t - Limite inferior: 5.76 // Limite superior: 7.7\n",
            "Para a classe Iris-setosa\n",
            "\t - Limite inferior: 3.0 // Limite superior: 4.09\n",
            "Para a classe Iris-versicolor\n",
            "\t - Limite inferior: 2.26 // Limite superior: 3.2\n",
            "Para a classe Iris-virginica\n",
            "\t - Limite inferior: 2.5 // Limite superior: 3.560000000000001\n",
            "Para a classe Iris-setosa\n",
            "\t - Limite inferior: 44.0 // Limite superior: 56.8\n",
            "Para a classe Iris-versicolor\n",
            "\t - Limite inferior: 50.6 // Limite superior: 67.80000000000001\n",
            "Para a classe Iris-virginica\n",
            "\t - Limite inferior: 57.599999999999994 // Limite superior: 77.0\n",
            "Para a classe Iris-setosa\n",
            "\t - Limite inferior: 1.2 // Limite superior: 1.7\n",
            "Para a classe Iris-versicolor\n",
            "\t - Limite inferior: 3.42 // Limite superior: 4.9\n",
            "Para a classe Iris-virginica\n",
            "\t - Limite inferior: 4.86 // Limite superior: 6.680000000000001\n",
            "Para a classe Iris-setosa\n",
            "\t - Limite inferior: 0.1 // Limite superior: 0.4\n",
            "Para a classe Iris-versicolor\n",
            "\t - Limite inferior: 1.0 // Limite superior: 1.6\n",
            "Para a classe Iris-virginica\n",
            "\t - Limite inferior: 1.56 // Limite superior: 2.4800000000000004\n"
          ],
          "name": "stdout"
        }
      ]
    },
    {
      "cell_type": "code",
      "metadata": {
        "colab": {
          "base_uri": "https://localhost:8080/",
          "height": 281
        },
        "id": "VE8b9jxFYkdI",
        "outputId": "3ac333c4-97b7-4e53-b63e-2d6da00ef9aa"
      },
      "source": [
        "view(iris_win, 1) # iris sem outliers (winsorização)"
      ],
      "execution_count": null,
      "outputs": [
        {
          "output_type": "display_data",
          "data": {
            "image/png": "[encoded data removed]",
            "text/plain": [
              "<Figure size 432x288 with 1 Axes>"
            ]
          },
          "metadata": {
            "tags": [],
            "needs_background": "light"
          }
        }
      ]
    },
    {
      "cell_type": "code",
      "metadata": {
        "colab": {
          "base_uri": "https://localhost:8080/",
          "height": 281
        },
        "id": "WH_y6watWo2F",
        "outputId": "bbdaa43d-e5b2-4def-ed72-6877b954882d"
      },
      "source": [
        "view(iris_win, 4) # iris sem outliers (winsorização)"
      ],
      "execution_count": null,
      "outputs": [
        {
          "output_type": "display_data",
          "data": {
            "image/png": "[encoded data removed]",
            "text/plain": [
              "<Figure size 432x288 with 1 Axes>"
            ]
          },
          "metadata": {
            "tags": [],
            "needs_background": "light"
          }
        }
      ]
    },
    {
      "cell_type": "code",
      "metadata": {
        "id": "Zw8y6F6RiyQC"
      },
      "source": [
        "# Sua resposta começa aqui\n",
        "\n",
        "def questao3(df, atributo_de_analise):\n",
        "\n",
        "  samples = df[atributo_de_analise].values\n",
        "\n",
        "  n_examples = len(samples)\n",
        "\n",
        "  greater_than_lower_bound = samples > 5.045\n",
        "  lower_than_upper_bound = samples < 6.741\n",
        "\n",
        "  inside_interval = greater_than_lower_bound & lower_than_upper_bound\n",
        "\n",
        "  examples_inside_interval = inside_interval.sum()\n",
        "\n",
        "  return examples_inside_interval / n_examples\n"
      ],
      "execution_count": null,
      "outputs": []
    },
    {
      "cell_type": "code",
      "metadata": {
        "id": "-dkLDbjaYQHx"
      },
      "source": [
        "from scipy import stats"
      ],
      "execution_count": null,
      "outputs": []
    },
    {
      "cell_type": "code",
      "metadata": {
        "colab": {
          "base_uri": "https://localhost:8080/"
        },
        "id": "lvFTi1pt5WOw",
        "outputId": "53824c44-5dbb-403a-fdfa-39065dd52f0d"
      },
      "source": [
        "# 1: 0.6582278481012658\n",
        "# 2: 0.0 (completamente fora do limite inferior)\n",
        "# 3: 0.0 (completamente fora do limite superior)\n",
        "# 4: 0.27848101265822783\n",
        "# 5: 0.0 (completamente fora do limite inferior)\n",
        "questao3(iris_win, 1)\n",
        "print(\"curtose: \", stats.kurtosis(iris_win[1]))\n",
        "print(\"obliquidade: \", stats.skew(iris_win[1]))"
      ],
      "execution_count": null,
      "outputs": [
        {
          "output_type": "stream",
          "text": [
            "curtose:  -0.5940108291846089\n",
            "obliquidade:  0.29331136690885773\n"
          ],
          "name": "stdout"
        }
      ]
    },
    {
      "cell_type": "markdown",
      "metadata": {
        "id": "iEa9tM-MUHg_"
      },
      "source": [
        "### Dicussão\n",
        "\n",
        "O atributo 1 obteve 65.82% de probabilidade. Os atributos 2, 3 e 5 apresentam valores completamente fora do intervalo proposto, e consequentemente possuem probabilidade 0. O único atributo diferente do 1 que apresentou valores dentro deste intervalo é o 4 (27.84% de probabilidade), porém inferior a probabilidado do atributo 1 devido a escalas de valores diferentes. O atributo 1 apresenta a distribuição mais semelhante à normal, com pico da distribuição um pouco abaixo de uma distribuição normal e com inclinação para esquerda. Estes fatores indicam kurtose negativa e obliquidade positiva respectivamente. A distribuição de valores do atributo 4, por sua vez, não se assemelha a uma normal, pois apresenta dois picos de valores."
      ]
    },
    {
      "cell_type": "markdown",
      "metadata": {
        "id": "kkuFts0r3tJB"
      },
      "source": [
        "### Parte 2\n",
        "Nos próximos exercícios utilizaremos um dataset com 13 variáveis de entrada e 1 variável de saída (num). O dataset pode ser encontrado no arquivo \"clv_heart_disease.csv\".\n",
        "Existem valores faltantes nesse dataset, representados pelo caractere \"?\".\n"
      ]
    },
    {
      "cell_type": "code",
      "metadata": {
        "id": "7NRqMuGZzAgR",
        "colab": {
          "base_uri": "https://localhost:8080/"
        },
        "outputId": "59c92052-2150-415b-85ed-40b560ba6ae0"
      },
      "source": [
        "# na_values diz para o Pandas qual simbolo representa valores faltantes\n",
        "dados = pd.read_csv('clv_heart_disease.data', na_values='?')\n",
        "dados.info()"
      ],
      "execution_count": null,
      "outputs": [
        {
          "output_type": "stream",
          "text": [
            "<class 'pandas.core.frame.DataFrame'>\n",
            "RangeIndex: 303 entries, 0 to 302\n",
            "Data columns (total 15 columns):\n",
            " #   Column      Non-Null Count  Dtype  \n",
            "---  ------      --------------  -----  \n",
            " 0   Unnamed: 0  303 non-null    int64  \n",
            " 1   age         303 non-null    float64\n",
            " 2   sex         303 non-null    object \n",
            " 3   cp          303 non-null    object \n",
            " 4   trestbps    303 non-null    float64\n",
            " 5   chol        303 non-null    float64\n",
            " 6   fbs         303 non-null    float64\n",
            " 7   restecg     303 non-null    object \n",
            " 8   thalach     303 non-null    float64\n",
            " 9   exang       303 non-null    object \n",
            " 10  oldpeak     303 non-null    float64\n",
            " 11  slope       303 non-null    object \n",
            " 12  ca          299 non-null    float64\n",
            " 13  thal        301 non-null    object \n",
            " 14  num         303 non-null    int64  \n",
            "dtypes: float64(7), int64(2), object(6)\n",
            "memory usage: 35.6+ KB\n"
          ],
          "name": "stdout"
        }
      ]
    },
    {
      "cell_type": "markdown",
      "metadata": {
        "id": "NVCsVMwE03iJ"
      },
      "source": [
        "### Questão 01.\n",
        "\n",
        "*   Crie uma lista com o nome das variáveis numéricas e uma com o nome das variáveis categóricas"
      ]
    },
    {
      "cell_type": "code",
      "metadata": {
        "colab": {
          "base_uri": "https://localhost:8080/",
          "height": 400
        },
        "id": "rjHJGJUSj64s",
        "outputId": "c9e655f0-ab99-4935-afa6-3f68cfe217ac"
      },
      "source": [
        "dados.head()"
      ],
      "execution_count": null,
      "outputs": [
        {
          "output_type": "execute_result",
          "data": {
            "text/html": [
              "<div>\n",
              "<style scoped>\n",
              "    .dataframe tbody tr th:only-of-type {\n",
              "        vertical-align: middle;\n",
              "    }\n",
              "\n",
              "    .dataframe tbody tr th {\n",
              "        vertical-align: top;\n",
              "    }\n",
              "\n",
              "    .dataframe thead th {\n",
              "        text-align: right;\n",
              "    }\n",
              "</style>\n",
              "<table border=\"1\" class=\"dataframe\">\n",
              "  <thead>\n",
              "    <tr style=\"text-align: right;\">\n",
              "      <th></th>\n",
              "      <th>Unnamed: 0</th>\n",
              "      <th>age</th>\n",
              "      <th>sex</th>\n",
              "      <th>cp</th>\n",
              "      <th>trestbps</th>\n",
              "      <th>chol</th>\n",
              "      <th>fbs</th>\n",
              "      <th>restecg</th>\n",
              "      <th>thalach</th>\n",
              "      <th>exang</th>\n",
              "      <th>oldpeak</th>\n",
              "      <th>slope</th>\n",
              "      <th>ca</th>\n",
              "      <th>thal</th>\n",
              "      <th>num</th>\n",
              "    </tr>\n",
              "  </thead>\n",
              "  <tbody>\n",
              "    <tr>\n",
              "      <th>0</th>\n",
              "      <td>0</td>\n",
              "      <td>63.0</td>\n",
              "      <td>male</td>\n",
              "      <td>Typical Angina</td>\n",
              "      <td>145.0</td>\n",
              "      <td>233.0</td>\n",
              "      <td>133.051002</td>\n",
              "      <td>Left ventricular hypertrophy</td>\n",
              "      <td>150.0</td>\n",
              "      <td>no</td>\n",
              "      <td>2.3</td>\n",
              "      <td>Downsloping</td>\n",
              "      <td>0.0</td>\n",
              "      <td>Fixed defect</td>\n",
              "      <td>0</td>\n",
              "    </tr>\n",
              "    <tr>\n",
              "      <th>1</th>\n",
              "      <td>1</td>\n",
              "      <td>67.0</td>\n",
              "      <td>male</td>\n",
              "      <td>Asymptomatic</td>\n",
              "      <td>160.0</td>\n",
              "      <td>286.0</td>\n",
              "      <td>106.803350</td>\n",
              "      <td>Left ventricular hypertrophy</td>\n",
              "      <td>108.0</td>\n",
              "      <td>yes</td>\n",
              "      <td>1.5</td>\n",
              "      <td>Flat</td>\n",
              "      <td>3.0</td>\n",
              "      <td>Normal</td>\n",
              "      <td>1</td>\n",
              "    </tr>\n",
              "    <tr>\n",
              "      <th>2</th>\n",
              "      <td>2</td>\n",
              "      <td>67.0</td>\n",
              "      <td>male</td>\n",
              "      <td>Asymptomatic</td>\n",
              "      <td>120.0</td>\n",
              "      <td>229.0</td>\n",
              "      <td>105.341447</td>\n",
              "      <td>Left ventricular hypertrophy</td>\n",
              "      <td>129.0</td>\n",
              "      <td>yes</td>\n",
              "      <td>2.6</td>\n",
              "      <td>Flat</td>\n",
              "      <td>2.0</td>\n",
              "      <td>Reversable defect</td>\n",
              "      <td>1</td>\n",
              "    </tr>\n",
              "    <tr>\n",
              "      <th>3</th>\n",
              "      <td>3</td>\n",
              "      <td>37.0</td>\n",
              "      <td>male</td>\n",
              "      <td>Non-anginal pain</td>\n",
              "      <td>130.0</td>\n",
              "      <td>250.0</td>\n",
              "      <td>102.194825</td>\n",
              "      <td>Normal</td>\n",
              "      <td>187.0</td>\n",
              "      <td>no</td>\n",
              "      <td>3.5</td>\n",
              "      <td>Downsloping</td>\n",
              "      <td>0.0</td>\n",
              "      <td>Normal</td>\n",
              "      <td>0</td>\n",
              "    </tr>\n",
              "    <tr>\n",
              "      <th>4</th>\n",
              "      <td>4</td>\n",
              "      <td>41.0</td>\n",
              "      <td>female</td>\n",
              "      <td>Atypical Angine</td>\n",
              "      <td>130.0</td>\n",
              "      <td>204.0</td>\n",
              "      <td>110.926185</td>\n",
              "      <td>Left ventricular hypertrophy</td>\n",
              "      <td>172.0</td>\n",
              "      <td>no</td>\n",
              "      <td>1.4</td>\n",
              "      <td>Upsloping</td>\n",
              "      <td>0.0</td>\n",
              "      <td>Normal</td>\n",
              "      <td>0</td>\n",
              "    </tr>\n",
              "  </tbody>\n",
              "</table>\n",
              "</div>"
            ],
            "text/plain": [
              "   Unnamed: 0   age     sex  ...   ca               thal  num\n",
              "0           0  63.0    male  ...  0.0       Fixed defect    0\n",
              "1           1  67.0    male  ...  3.0             Normal    1\n",
              "2           2  67.0    male  ...  2.0  Reversable defect    1\n",
              "3           3  37.0    male  ...  0.0             Normal    0\n",
              "4           4  41.0  female  ...  0.0             Normal    0\n",
              "\n",
              "[5 rows x 15 columns]"
            ]
          },
          "metadata": {
            "tags": []
          },
          "execution_count": 31
        }
      ]
    },
    {
      "cell_type": "code",
      "metadata": {
        "id": "u9UasGnc0zab"
      },
      "source": [
        "# Criamos um vetor com o nome das classes desejadas\n",
        "features_numericos = [\"age\", \"trestbps\", \"chol\", \"fbs\", \"thalach\", \"oldpeak\", \"ca\"] # não incluir num pois é a variável \"classe\"\n",
        "features_categoricos = [\"sex\", \"cp\", \"restecg\", \"exang\", \"slope\", \"thal\"]"
      ],
      "execution_count": null,
      "outputs": []
    },
    {
      "cell_type": "markdown",
      "metadata": {
        "id": "G8xZXqwEzut8"
      },
      "source": [
        "### Questão 02.\n",
        "\n",
        "*   **Para os dados numéricos:** substitua os valores faltantes utilizando a estratégia de média.\n",
        "\n",
        "*   **Para os dados categóricos:** substitua os valores faltantes utilizando a estratégia de mais frequentes."
      ]
    },
    {
      "cell_type": "code",
      "metadata": {
        "id": "VLAETzlE0cO_"
      },
      "source": [
        "from sklearn.impute import SimpleImputer\n",
        "from sklearn.compose import ColumnTransformer\n",
        "\n",
        "# Seu código começa aqui\n",
        "transform = ColumnTransformer(\n",
        "    transformers=[\n",
        "        ('numéricos', SimpleImputer(strategy='mean'), features_numericos),\n",
        "        ('categóricos', SimpleImputer(strategy='most_frequent'), features_categoricos),\n",
        "    ]\n",
        ")"
      ],
      "execution_count": null,
      "outputs": []
    },
    {
      "cell_type": "code",
      "metadata": {
        "id": "q08WToFeY59b"
      },
      "source": [
        "raw_values = transform.fit_transform(dados)"
      ],
      "execution_count": null,
      "outputs": []
    },
    {
      "cell_type": "code",
      "metadata": {
        "colab": {
          "base_uri": "https://localhost:8080/"
        },
        "id": "Ism9s4o4ZT2b",
        "outputId": "18ea8a9d-5395-43e8-b38d-63513e6539fa"
      },
      "source": [
        "raw_values"
      ],
      "execution_count": null,
      "outputs": [
        {
          "output_type": "execute_result",
          "data": {
            "text/plain": [
              "array([[63.0, 145.0, 233.0, ..., 'no', 'Downsloping', 'Fixed defect'],\n",
              "       [67.0, 160.0, 286.0, ..., 'yes', 'Flat', 'Normal'],\n",
              "       [67.0, 120.0, 229.0, ..., 'yes', 'Flat', 'Reversable defect'],\n",
              "       ...,\n",
              "       [57.0, 130.0, 131.0, ..., 'yes', 'Flat', 'Reversable defect'],\n",
              "       [57.0, 130.0, 236.0, ..., 'no', 'Flat', 'Normal'],\n",
              "       [38.0, 138.0, 175.0, ..., 'no', 'Upsloping', 'Normal']],\n",
              "      dtype=object)"
            ]
          },
          "metadata": {
            "tags": []
          },
          "execution_count": 35
        }
      ]
    },
    {
      "cell_type": "code",
      "metadata": {
        "id": "-0ye1cUIbxB9"
      },
      "source": [
        "raw_values_with_labels = np.c_[raw_values, dados['num']]"
      ],
      "execution_count": null,
      "outputs": []
    },
    {
      "cell_type": "code",
      "metadata": {
        "id": "owPpTGVRb79U"
      },
      "source": [
        "columns = features_numericos[:] # fazendo uma cópia\n",
        "columns.extend(features_categoricos)\n",
        "columns.append(\"num\")"
      ],
      "execution_count": null,
      "outputs": []
    },
    {
      "cell_type": "code",
      "metadata": {
        "id": "zTv0z-rGbnxG"
      },
      "source": [
        "novos_dados = pd.DataFrame(raw_values_with_labels, columns=columns)"
      ],
      "execution_count": null,
      "outputs": []
    },
    {
      "cell_type": "code",
      "metadata": {
        "colab": {
          "base_uri": "https://localhost:8080/",
          "height": 293
        },
        "id": "DQS2Atdubnrr",
        "outputId": "596468d5-317b-478f-be97-8890b4e196aa"
      },
      "source": [
        "novos_dados.head()"
      ],
      "execution_count": null,
      "outputs": [
        {
          "output_type": "execute_result",
          "data": {
            "text/html": [
              "<div>\n",
              "<style scoped>\n",
              "    .dataframe tbody tr th:only-of-type {\n",
              "        vertical-align: middle;\n",
              "    }\n",
              "\n",
              "    .dataframe tbody tr th {\n",
              "        vertical-align: top;\n",
              "    }\n",
              "\n",
              "    .dataframe thead th {\n",
              "        text-align: right;\n",
              "    }\n",
              "</style>\n",
              "<table border=\"1\" class=\"dataframe\">\n",
              "  <thead>\n",
              "    <tr style=\"text-align: right;\">\n",
              "      <th></th>\n",
              "      <th>age</th>\n",
              "      <th>trestbps</th>\n",
              "      <th>chol</th>\n",
              "      <th>fbs</th>\n",
              "      <th>thalach</th>\n",
              "      <th>oldpeak</th>\n",
              "      <th>ca</th>\n",
              "      <th>sex</th>\n",
              "      <th>cp</th>\n",
              "      <th>restecg</th>\n",
              "      <th>exang</th>\n",
              "      <th>slope</th>\n",
              "      <th>thal</th>\n",
              "      <th>num</th>\n",
              "    </tr>\n",
              "  </thead>\n",
              "  <tbody>\n",
              "    <tr>\n",
              "      <th>0</th>\n",
              "      <td>63</td>\n",
              "      <td>145</td>\n",
              "      <td>233</td>\n",
              "      <td>133.051</td>\n",
              "      <td>150</td>\n",
              "      <td>2.3</td>\n",
              "      <td>0</td>\n",
              "      <td>male</td>\n",
              "      <td>Typical Angina</td>\n",
              "      <td>Left ventricular hypertrophy</td>\n",
              "      <td>no</td>\n",
              "      <td>Downsloping</td>\n",
              "      <td>Fixed defect</td>\n",
              "      <td>0</td>\n",
              "    </tr>\n",
              "    <tr>\n",
              "      <th>1</th>\n",
              "      <td>67</td>\n",
              "      <td>160</td>\n",
              "      <td>286</td>\n",
              "      <td>106.803</td>\n",
              "      <td>108</td>\n",
              "      <td>1.5</td>\n",
              "      <td>3</td>\n",
              "      <td>male</td>\n",
              "      <td>Asymptomatic</td>\n",
              "      <td>Left ventricular hypertrophy</td>\n",
              "      <td>yes</td>\n",
              "      <td>Flat</td>\n",
              "      <td>Normal</td>\n",
              "      <td>1</td>\n",
              "    </tr>\n",
              "    <tr>\n",
              "      <th>2</th>\n",
              "      <td>67</td>\n",
              "      <td>120</td>\n",
              "      <td>229</td>\n",
              "      <td>105.341</td>\n",
              "      <td>129</td>\n",
              "      <td>2.6</td>\n",
              "      <td>2</td>\n",
              "      <td>male</td>\n",
              "      <td>Asymptomatic</td>\n",
              "      <td>Left ventricular hypertrophy</td>\n",
              "      <td>yes</td>\n",
              "      <td>Flat</td>\n",
              "      <td>Reversable defect</td>\n",
              "      <td>1</td>\n",
              "    </tr>\n",
              "    <tr>\n",
              "      <th>3</th>\n",
              "      <td>37</td>\n",
              "      <td>130</td>\n",
              "      <td>250</td>\n",
              "      <td>102.195</td>\n",
              "      <td>187</td>\n",
              "      <td>3.5</td>\n",
              "      <td>0</td>\n",
              "      <td>male</td>\n",
              "      <td>Non-anginal pain</td>\n",
              "      <td>Normal</td>\n",
              "      <td>no</td>\n",
              "      <td>Downsloping</td>\n",
              "      <td>Normal</td>\n",
              "      <td>0</td>\n",
              "    </tr>\n",
              "    <tr>\n",
              "      <th>4</th>\n",
              "      <td>41</td>\n",
              "      <td>130</td>\n",
              "      <td>204</td>\n",
              "      <td>110.926</td>\n",
              "      <td>172</td>\n",
              "      <td>1.4</td>\n",
              "      <td>0</td>\n",
              "      <td>female</td>\n",
              "      <td>Atypical Angine</td>\n",
              "      <td>Left ventricular hypertrophy</td>\n",
              "      <td>no</td>\n",
              "      <td>Upsloping</td>\n",
              "      <td>Normal</td>\n",
              "      <td>0</td>\n",
              "    </tr>\n",
              "  </tbody>\n",
              "</table>\n",
              "</div>"
            ],
            "text/plain": [
              "  age trestbps chol      fbs  ... exang        slope               thal num\n",
              "0  63      145  233  133.051  ...    no  Downsloping       Fixed defect   0\n",
              "1  67      160  286  106.803  ...   yes         Flat             Normal   1\n",
              "2  67      120  229  105.341  ...   yes         Flat  Reversable defect   1\n",
              "3  37      130  250  102.195  ...    no  Downsloping             Normal   0\n",
              "4  41      130  204  110.926  ...    no    Upsloping             Normal   0\n",
              "\n",
              "[5 rows x 14 columns]"
            ]
          },
          "metadata": {
            "tags": []
          },
          "execution_count": 39
        }
      ]
    },
    {
      "cell_type": "code",
      "metadata": {
        "colab": {
          "base_uri": "https://localhost:8080/"
        },
        "id": "iqYQhyRQdUUI",
        "outputId": "f16428b3-f989-4aec-b943-c08b7bf056e0"
      },
      "source": [
        "novos_dados.info()"
      ],
      "execution_count": null,
      "outputs": [
        {
          "output_type": "stream",
          "text": [
            "<class 'pandas.core.frame.DataFrame'>\n",
            "RangeIndex: 303 entries, 0 to 302\n",
            "Data columns (total 14 columns):\n",
            " #   Column    Non-Null Count  Dtype \n",
            "---  ------    --------------  ----- \n",
            " 0   age       303 non-null    object\n",
            " 1   trestbps  303 non-null    object\n",
            " 2   chol      303 non-null    object\n",
            " 3   fbs       303 non-null    object\n",
            " 4   thalach   303 non-null    object\n",
            " 5   oldpeak   303 non-null    object\n",
            " 6   ca        303 non-null    object\n",
            " 7   sex       303 non-null    object\n",
            " 8   cp        303 non-null    object\n",
            " 9   restecg   303 non-null    object\n",
            " 10  exang     303 non-null    object\n",
            " 11  slope     303 non-null    object\n",
            " 12  thal      303 non-null    object\n",
            " 13  num       303 non-null    object\n",
            "dtypes: object(14)\n",
            "memory usage: 33.3+ KB\n"
          ],
          "name": "stdout"
        }
      ]
    },
    {
      "cell_type": "markdown",
      "metadata": {
        "id": "5t6QBE_k1v9v"
      },
      "source": [
        "### Questão 03.\n",
        "\n",
        "*     ***Utilizando apenas os atributos numéricos do exercício anterior***, calcule todos os componentes principais utilizando PCA  (`sklearn.decomposition.PCA`) e depois selecione apenas os componentes necessários para explicar 80% da variância do sub-conjunto de atributos numéricos.\n",
        "\n",
        "*   Exiba os componentes principais em uma tabela."
      ]
    },
    {
      "cell_type": "code",
      "metadata": {
        "id": "YTz90OPLlzJK"
      },
      "source": [
        "dados_numericos = features_numericos[:]"
      ],
      "execution_count": null,
      "outputs": []
    },
    {
      "cell_type": "code",
      "metadata": {
        "id": "sESg0A4z2v7P"
      },
      "source": [
        "from sklearn.decomposition import PCA\n",
        "\n",
        "values = novos_dados[dados_numericos].values"
      ],
      "execution_count": null,
      "outputs": []
    },
    {
      "cell_type": "code",
      "metadata": {
        "colab": {
          "base_uri": "https://localhost:8080/"
        },
        "id": "bNSDtWDNecpM",
        "outputId": "0459e857-e997-422f-cd46-e0c9c517e236"
      },
      "source": [
        "values = novos_dados[dados_numericos].values\n",
        "values"
      ],
      "execution_count": null,
      "outputs": [
        {
          "output_type": "execute_result",
          "data": {
            "text/plain": [
              "array([[63.0, 145.0, 233.0, ..., 150.0, 2.3, 0.0],\n",
              "       [67.0, 160.0, 286.0, ..., 108.0, 1.5, 3.0],\n",
              "       [67.0, 120.0, 229.0, ..., 129.0, 2.6, 2.0],\n",
              "       ...,\n",
              "       [57.0, 130.0, 131.0, ..., 115.0, 1.2, 1.0],\n",
              "       [57.0, 130.0, 236.0, ..., 174.0, 0.0, 1.0],\n",
              "       [38.0, 138.0, 175.0, ..., 173.0, 0.0, 0.6722408026755853]],\n",
              "      dtype=object)"
            ]
          },
          "metadata": {
            "tags": []
          },
          "execution_count": 43
        }
      ]
    },
    {
      "cell_type": "code",
      "metadata": {
        "colab": {
          "base_uri": "https://localhost:8080/"
        },
        "id": "Zf3_-THSe5lG",
        "outputId": "73051af7-b065-4dcb-a42c-f1f01f1dbd23"
      },
      "source": [
        "pca = PCA()\n",
        "pca.fit(values)"
      ],
      "execution_count": null,
      "outputs": [
        {
          "output_type": "execute_result",
          "data": {
            "text/plain": [
              "PCA(copy=True, iterated_power='auto', n_components=None, random_state=None,\n",
              "    svd_solver='auto', tol=0.0, whiten=False)"
            ]
          },
          "metadata": {
            "tags": []
          },
          "execution_count": 44
        }
      ]
    },
    {
      "cell_type": "code",
      "metadata": {
        "colab": {
          "base_uri": "https://localhost:8080/"
        },
        "id": "2Rl70oQMfxAn",
        "outputId": "5c5b7260-1cfc-410e-b2ed-c7317a57e4d0"
      },
      "source": [
        "pca.components_.shape"
      ],
      "execution_count": null,
      "outputs": [
        {
          "output_type": "execute_result",
          "data": {
            "text/plain": [
              "(7, 7)"
            ]
          },
          "metadata": {
            "tags": []
          },
          "execution_count": 45
        }
      ]
    },
    {
      "cell_type": "code",
      "metadata": {
        "colab": {
          "base_uri": "https://localhost:8080/"
        },
        "id": "wDQOXb5Xf9SO",
        "outputId": "1a8807fe-a9ec-4ae0-84b5-9035fb1cc228"
      },
      "source": [
        "pca.explained_variance_ratio_"
      ],
      "execution_count": null,
      "outputs": [
        {
          "output_type": "execute_result",
          "data": {
            "text/plain": [
              "array([7.23143993e-01, 1.45383489e-01, 8.39281491e-02, 3.14867273e-02,\n",
              "       1.55545228e-02, 3.27798612e-04, 1.75319777e-04])"
            ]
          },
          "metadata": {
            "tags": []
          },
          "execution_count": 46
        }
      ]
    },
    {
      "cell_type": "markdown",
      "metadata": {
        "id": "yhv7opYwqmkN"
      },
      "source": [
        "### Analisando variâncias"
      ]
    },
    {
      "cell_type": "code",
      "metadata": {
        "colab": {
          "base_uri": "https://localhost:8080/"
        },
        "id": "O1ft_HLWhD7r",
        "outputId": "9c718c11-b7a8-4e6a-c33b-48f39701734d"
      },
      "source": [
        "print(f\"Variância em função do número de componentes:\")\n",
        "for i in range(1, len(features_numericos)+1):\n",
        "  current_variance = pca.explained_variance_ratio_[:i].sum()\n",
        "  print(f\"- pct: {current_variance} para {i} variáveis.\")"
      ],
      "execution_count": null,
      "outputs": [
        {
          "output_type": "stream",
          "text": [
            "Variância em função do número de componentes:\n",
            "- pct: 0.7231439931893807 para 1 variáveis.\n",
            "- pct: 0.8685274824002079 para 2 variáveis.\n",
            "- pct: 0.952455631489858 para 3 variáveis.\n",
            "- pct: 0.9839423587657818 para 4 variáveis.\n",
            "- pct: 0.9994968816104196 para 5 variáveis.\n",
            "- pct: 0.9998246802228439 para 6 variáveis.\n",
            "- pct: 0.9999999999999999 para 7 variáveis.\n"
          ],
          "name": "stdout"
        }
      ]
    },
    {
      "cell_type": "markdown",
      "metadata": {
        "id": "h-qnpQNmr73H"
      },
      "source": [
        "### Dicussão\n",
        "\n",
        "Analisando as variâncias associadas a quantidade de componentes utilizadas, conclui-se que são necessários apenas dois componentes principais para captar 80% da variância dos dados."
      ]
    },
    {
      "cell_type": "markdown",
      "metadata": {
        "id": "pA5tdzbatAGq"
      },
      "source": [
        "### Componentes principais\n"
      ]
    },
    {
      "cell_type": "code",
      "metadata": {
        "id": "lshvvWaJs_Pu"
      },
      "source": [
        "components_df = pd.DataFrame(pca.components_, columns=[f\"v{i}\" for i in range(1, 8)])"
      ],
      "execution_count": null,
      "outputs": []
    },
    {
      "cell_type": "code",
      "metadata": {
        "colab": {
          "base_uri": "https://localhost:8080/",
          "height": 269
        },
        "id": "w7TlT6WchJQr",
        "outputId": "7c6872c6-f456-4466-a477-f5ceb4e35f27"
      },
      "source": [
        "components_df"
      ],
      "execution_count": null,
      "outputs": [
        {
          "output_type": "execute_result",
          "data": {
            "text/html": [
              "<div>\n",
              "<style scoped>\n",
              "    .dataframe tbody tr th:only-of-type {\n",
              "        vertical-align: middle;\n",
              "    }\n",
              "\n",
              "    .dataframe tbody tr th {\n",
              "        vertical-align: top;\n",
              "    }\n",
              "\n",
              "    .dataframe thead th {\n",
              "        text-align: right;\n",
              "    }\n",
              "</style>\n",
              "<table border=\"1\" class=\"dataframe\">\n",
              "  <thead>\n",
              "    <tr style=\"text-align: right;\">\n",
              "      <th></th>\n",
              "      <th>v1</th>\n",
              "      <th>v2</th>\n",
              "      <th>v3</th>\n",
              "      <th>v4</th>\n",
              "      <th>v5</th>\n",
              "      <th>v6</th>\n",
              "      <th>v7</th>\n",
              "    </tr>\n",
              "  </thead>\n",
              "  <tbody>\n",
              "    <tr>\n",
              "      <th>0</th>\n",
              "      <td>0.038461</td>\n",
              "      <td>0.050658</td>\n",
              "      <td>0.997865</td>\n",
              "      <td>0.014128</td>\n",
              "      <td>-0.003822</td>\n",
              "      <td>0.001161</td>\n",
              "      <td>0.002209</td>\n",
              "    </tr>\n",
              "    <tr>\n",
              "      <th>1</th>\n",
              "      <td>0.181431</td>\n",
              "      <td>0.110091</td>\n",
              "      <td>-0.016906</td>\n",
              "      <td>0.038070</td>\n",
              "      <td>-0.976101</td>\n",
              "      <td>0.017982</td>\n",
              "      <td>0.011423</td>\n",
              "    </tr>\n",
              "    <tr>\n",
              "      <th>2</th>\n",
              "      <td>0.125568</td>\n",
              "      <td>0.965793</td>\n",
              "      <td>-0.055748</td>\n",
              "      <td>0.169312</td>\n",
              "      <td>0.140041</td>\n",
              "      <td>0.008843</td>\n",
              "      <td>0.003517</td>\n",
              "    </tr>\n",
              "    <tr>\n",
              "      <th>3</th>\n",
              "      <td>0.029045</td>\n",
              "      <td>-0.179908</td>\n",
              "      <td>-0.005835</td>\n",
              "      <td>0.982904</td>\n",
              "      <td>0.023684</td>\n",
              "      <td>0.001523</td>\n",
              "      <td>0.009540</td>\n",
              "    </tr>\n",
              "    <tr>\n",
              "      <th>4</th>\n",
              "      <td>0.973718</td>\n",
              "      <td>-0.141702</td>\n",
              "      <td>-0.028932</td>\n",
              "      <td>-0.059082</td>\n",
              "      <td>0.163490</td>\n",
              "      <td>-0.001586</td>\n",
              "      <td>0.027096</td>\n",
              "    </tr>\n",
              "    <tr>\n",
              "      <th>5</th>\n",
              "      <td>-0.013343</td>\n",
              "      <td>-0.009528</td>\n",
              "      <td>-0.000725</td>\n",
              "      <td>-0.006740</td>\n",
              "      <td>0.017600</td>\n",
              "      <td>0.931635</td>\n",
              "      <td>0.362536</td>\n",
              "    </tr>\n",
              "    <tr>\n",
              "      <th>6</th>\n",
              "      <td>-0.026220</td>\n",
              "      <td>0.004556</td>\n",
              "      <td>-0.000765</td>\n",
              "      <td>-0.006865</td>\n",
              "      <td>-0.000398</td>\n",
              "      <td>-0.362835</td>\n",
              "      <td>0.931448</td>\n",
              "    </tr>\n",
              "  </tbody>\n",
              "</table>\n",
              "</div>"
            ],
            "text/plain": [
              "         v1        v2        v3        v4        v5        v6        v7\n",
              "0  0.038461  0.050658  0.997865  0.014128 -0.003822  0.001161  0.002209\n",
              "1  0.181431  0.110091 -0.016906  0.038070 -0.976101  0.017982  0.011423\n",
              "2  0.125568  0.965793 -0.055748  0.169312  0.140041  0.008843  0.003517\n",
              "3  0.029045 -0.179908 -0.005835  0.982904  0.023684  0.001523  0.009540\n",
              "4  0.973718 -0.141702 -0.028932 -0.059082  0.163490 -0.001586  0.027096\n",
              "5 -0.013343 -0.009528 -0.000725 -0.006740  0.017600  0.931635  0.362536\n",
              "6 -0.026220  0.004556 -0.000765 -0.006865 -0.000398 -0.362835  0.931448"
            ]
          },
          "metadata": {
            "tags": []
          },
          "execution_count": 49
        }
      ]
    },
    {
      "cell_type": "code",
      "metadata": {
        "id": "Boop6K2ZtJr0"
      },
      "source": [],
      "execution_count": null,
      "outputs": []
    }
  ]
}